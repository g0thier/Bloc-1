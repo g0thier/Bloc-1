{
 "cells": [
  {
   "cell_type": "markdown",
   "metadata": {},
   "source": [
    "# Push on AWS S3"
   ]
  },
  {
   "cell_type": "code",
   "execution_count": 37,
   "metadata": {},
   "outputs": [
    {
     "name": "stdout",
     "output_type": "stream",
     "text": [
      "Did he encounter a problem ? : None\n"
     ]
    }
   ],
   "source": [
    "import boto3\n",
    "import logging\n",
    "import pandas as pd\n",
    "\n",
    "# gitignore file security AWS password access\n",
    "# rootkey.csv create in webconsole AWS -> MYNAME -> Info. Id. Secu. -> IAM -> Access Key \n",
    "rootkey = pd.read_csv('src/rootkey.csv',header=None, sep=\"=\").T\n",
    "rootkey.columns = rootkey.iloc[0]\n",
    "rootkey = rootkey.drop([0])\n",
    "\n",
    "# Sensitive informations Account\n",
    "AWSAccessKeyId = rootkey['AWSAccessKeyId'].iloc[0]\n",
    "AWSSecretKey = rootkey['AWSSecretKey'].iloc[0]\n",
    "\n",
    "# Open session \n",
    "session = boto3.Session(aws_access_key_id=AWSAccessKeyId, \n",
    "                        aws_secret_access_key=AWSSecretKey)\n",
    "\n",
    "# Run session\n",
    "s3 = session.resource(\"s3\")\n",
    "\n",
    "# Upload file \n",
    "bucket_name = 'compartiment-bucket-s3-jedha-rg'\n",
    "path = 'src/s3_booking_weather_dataset.csv'\n",
    "name = 'booking_weather_dataset.csv'\n",
    "result = s3.Bucket(bucket_name).upload_file(path,name)\n",
    "\n",
    "# It's OK ?\n",
    "print(f'Did he encounter a problem ? : {result}')"
   ]
  }
 ],
 "metadata": {
  "kernelspec": {
   "display_name": "Python 3.9.5 64-bit",
   "language": "python",
   "name": "python3"
  },
  "language_info": {
   "codemirror_mode": {
    "name": "ipython",
    "version": 3
   },
   "file_extension": ".py",
   "mimetype": "text/x-python",
   "name": "python",
   "nbconvert_exporter": "python",
   "pygments_lexer": "ipython3",
   "version": "3.9.5"
  },
  "orig_nbformat": 4,
  "vscode": {
   "interpreter": {
    "hash": "7812ea015bdcee6f23a998adcdd2ef97c151c0c241b7b7070987d9313e41299d"
   }
  }
 },
 "nbformat": 4,
 "nbformat_minor": 2
}
