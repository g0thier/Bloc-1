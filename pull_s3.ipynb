{
 "cells": [
  {
   "cell_type": "code",
   "execution_count": null,
   "metadata": {},
   "outputs": [],
   "source": [
    "import boto3\n",
    "from io import BytesIO\n",
    "import logging\n",
    "import pandas as pd\n",
    "\n",
    "# gitignore file security AWS password access\n",
    "# rootkey.csv create in webconsole AWS -> MYNAME -> Info. Id. Secu. -> IAM -> Access Key \n",
    "rootkey = pd.read_csv('src/rootkey.csv',header=None, sep=\"=\").T\n",
    "rootkey.columns = rootkey.iloc[0]\n",
    "rootkey = rootkey.drop([0])\n",
    "\n",
    "# Sensitive informations Account\n",
    "AWSAccessKeyId = rootkey['AWSAccessKeyId'].iloc[0]\n",
    "AWSSecretKey = rootkey['AWSSecretKey'].iloc[0]\n",
    "\n",
    "# Open session \n",
    "session = boto3.Session(aws_access_key_id=AWSAccessKeyId, \n",
    "                        aws_secret_access_key=AWSSecretKey)\n",
    "\n",
    "# Run session\n",
    "s3 = session.resource(\"s3\")\n",
    "\n",
    "# Upload file \n",
    "bucket_name = 'compartiment-bucket-s3-jedha-rg'\n",
    "name = 'booking_weather_dataset.csv' \n",
    "obj = s3.Object(bucket_name, name)\n",
    "\n",
    "# Reading the File as String With Encoding\n",
    "file_content = BytesIO(obj.get()['Body'].read())\n",
    "\n",
    "dataframe = pd.read_csv(file_content)"
   ]
  }
 ],
 "metadata": {
  "kernelspec": {
   "display_name": "Python 3.9.5 64-bit",
   "language": "python",
   "name": "python3"
  },
  "language_info": {
   "name": "python",
   "version": "3.9.5"
  },
  "orig_nbformat": 4,
  "vscode": {
   "interpreter": {
    "hash": "7812ea015bdcee6f23a998adcdd2ef97c151c0c241b7b7070987d9313e41299d"
   }
  }
 },
 "nbformat": 4,
 "nbformat_minor": 2
}
