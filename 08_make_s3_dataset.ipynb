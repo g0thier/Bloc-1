{
 "cells": [
  {
   "cell_type": "code",
   "execution_count": 34,
   "metadata": {},
   "outputs": [],
   "source": [
    "# Usuals imports \n",
    "import numpy as np\n",
    "import pandas as pd\n",
    "from time import sleep\n",
    "import re"
   ]
  },
  {
   "cell_type": "markdown",
   "metadata": {},
   "source": [
    "## Informations about previous files\n",
    "\n",
    "1. cities_weather_info.ipynb create from a list of cities a dataframe with weather of this cities.\n",
    "2. weather_code.py return a dataframe who associate code with a definition of this code.\n",
    "3. booking_infos.ipynb return the first page of city result for current date.\n",
    "4. booking_infos_pages.py return the numbers of results availables on firsts pages.\n",
    "5. booking_hostels.py make a list of all hostels availables for previous list of firts pages.\n",
    "6. hostels_list.py make a list of all hostels forms from hotels cities list.\n",
    "7. hostels_list_located.ipynb add locations to this last dataset.\n",
    "\n",
    "## Informations about merge to create\n",
    " * 1 -> cities_weather_infos.csv\n",
    " * 2 -> weather_code_description.json : weather_code <-> cities_weather_infos.csv\n",
    " * 3 -> booking_mains_cities.csv : city <-> cities_weather_infos.csv\n",
    " * 5 -> booking_hostels.json : booking_page <-> +- city : booking_mains_cities.csv\n",
    " * 7 -> hostels_list_located.csv : booking_page <-> url_hostel"
   ]
  },
  {
   "cell_type": "code",
   "execution_count": 35,
   "metadata": {},
   "outputs": [],
   "source": [
    "hostels_list_located = pd.read_csv('src/hostels_list_located.csv')\n",
    "booking_hostels = pd.read_json('src/booking_hostels.json')\n",
    "booking_mains_cities = pd.read_csv('src/booking_mains_cities.csv')\n",
    "weather_code_description = pd.read_json('src/weather_code_description.json')\n",
    "cities_weather_infos = pd.read_csv('src/cities_weather_infos.csv')"
   ]
  },
  {
   "cell_type": "markdown",
   "metadata": {},
   "source": [
    "## Merge datasets"
   ]
  },
  {
   "cell_type": "code",
   "execution_count": 36,
   "metadata": {},
   "outputs": [],
   "source": [
    "# Merge cities_weather_infos & weather_code_description\n",
    "dataframe = pd.merge(cities_weather_infos, weather_code_description, left_on='weather_code', right_on='weather_code')\n",
    "\n",
    "# Merge (cities_weather_infos & weather_code_description) & booking_mains_cities\n",
    "dataframe = pd.merge(dataframe, booking_mains_cities, left_on='city', right_on='city')\n",
    "\n",
    "# Correct booking_hostels for merge \n",
    "booking_hostels['main_url'] = booking_hostels['main_url'].apply(lambda x : re.sub(r'&offset=\\d*', '', x))\n",
    "booking_hostels['OI'] = [np.nan if len(x) == 0 else 1 for x in booking_hostels['url_hostel']]\n",
    "booking_hostels = booking_hostels.dropna(subset=['OI'])\n",
    "booking_hostels = booking_hostels.drop(columns=['OI'])\n",
    "\n",
    "# Merge (cities_weather_infos, weather_code_description, booking_mains_cities) & booking_hostels\n",
    "dataframe = pd.merge(booking_hostels, dataframe, left_on='main_url', right_on='main_url')\n",
    "\n",
    "# Correct hostels_list_located & dataframe for merge\n",
    "hostels_list_located = hostels_list_located.rename(columns={\"adress\": \"hotel_adress\",\n",
    "                                                            \"note\": \"hotel_note\",\n",
    "                                                            \"describe\": \"hotel_describe\",\n",
    "                                                            \"latitude\": \"hotel_latitude\",\n",
    "                                                            \"longitude\": \"hotel_longitude\"})\n",
    "dataframe['url_hostel'] = dataframe['url_hostel'].apply(lambda x : re.sub(r'#hotelTmpl', '', x))\n",
    "\n",
    "# Final merge with all informations\n",
    "dataframe = pd.merge(hostels_list_located, dataframe, left_on='booking_page', right_on='url_hostel')\n",
    "\n",
    "# Clear datas\n",
    "dataframe = dataframe.drop(columns= ['booking_page', 'main_url'])\n",
    "dataframe['hotel_note'] = [x.replace(',','.') for x in dataframe['hotel_note']]\n",
    "dataframe['hotel_note'] = dataframe['hotel_note'].astype(float)\n",
    "\n",
    "# Save data\n",
    "dataframe.to_csv(r'src/s3_booking_weather_dataset.csv', index=False)"
   ]
  }
 ],
 "metadata": {
  "kernelspec": {
   "display_name": "Python 3.9.5 64-bit",
   "language": "python",
   "name": "python3"
  },
  "language_info": {
   "codemirror_mode": {
    "name": "ipython",
    "version": 3
   },
   "file_extension": ".py",
   "mimetype": "text/x-python",
   "name": "python",
   "nbconvert_exporter": "python",
   "pygments_lexer": "ipython3",
   "version": "3.9.5"
  },
  "orig_nbformat": 4,
  "vscode": {
   "interpreter": {
    "hash": "7812ea015bdcee6f23a998adcdd2ef97c151c0c241b7b7070987d9313e41299d"
   }
  }
 },
 "nbformat": 4,
 "nbformat_minor": 2
}
