{
 "cells": [
  {
   "cell_type": "code",
   "execution_count": 151,
   "metadata": {},
   "outputs": [],
   "source": [
    "# Usuals imports \n",
    "import numpy as np\n",
    "import pandas as pd \n",
    "import requests\n",
    "from time import sleep\n",
    "import re"
   ]
  },
  {
   "cell_type": "markdown",
   "metadata": {},
   "source": [
    "## Import hostels list"
   ]
  },
  {
   "cell_type": "code",
   "execution_count": 152,
   "metadata": {},
   "outputs": [],
   "source": [
    "hostels_list = pd.read_json('src/hostels_list.json', encoding='utf-8')"
   ]
  },
  {
   "cell_type": "code",
   "execution_count": 153,
   "metadata": {},
   "outputs": [],
   "source": [
    "def html_unicorn(sentence):\n",
    "    foo = sentence.replace(\"\\\\/\", \"/\").encode().decode('utf-8')\n",
    "    foo = foo.replace(f'\\n', '')\n",
    "    return foo"
   ]
  },
  {
   "cell_type": "code",
   "execution_count": 154,
   "metadata": {},
   "outputs": [],
   "source": [
    "for index in range(len(hostels_list)):\n",
    "    if hostels_list['hotel_name'][index] == None:\n",
    "        hostel_url = hostels_list['booking_page'][index]\n",
    "        h_name = re.search(r'fr/(.*?).fr', hostel_url).group(1)\n",
    "        h_name = h_name.replace('-', ' ')\n",
    "        \n",
    "        hostels_list['hotel_name'][index] = h_name\n",
    "    "
   ]
  },
  {
   "cell_type": "code",
   "execution_count": 155,
   "metadata": {},
   "outputs": [],
   "source": [
    "hostels_list = hostels_list.dropna().reset_index().drop(columns=['index'])\n",
    "hostels_list = hostels_list.applymap(html_unicorn)"
   ]
  },
  {
   "cell_type": "markdown",
   "metadata": {},
   "source": [
    "## Create lat / long columns"
   ]
  },
  {
   "cell_type": "code",
   "execution_count": 156,
   "metadata": {},
   "outputs": [],
   "source": [
    "hostels_list['latitude'] = np.nan\n",
    "hostels_list['longitude'] = np.nan"
   ]
  },
  {
   "cell_type": "markdown",
   "metadata": {},
   "source": [
    "## Clear adress "
   ]
  },
  {
   "cell_type": "code",
   "execution_count": 187,
   "metadata": {},
   "outputs": [],
   "source": [
    "def clear_adress(sentence):\n",
    "    adress = sentence\n",
    "    try :\n",
    "        todrop = re.findall(r', (?:...) arr.', adress)[0]\n",
    "        adress = adress.replace(todrop, '')\n",
    "    except:\n",
    "        pass\n",
    "\n",
    "    try :\n",
    "        commas_index = re.search(r'[0-9]+(.*?) ', adress).end()-2\n",
    "        adress = adress[:commas_index] + adress[commas_index+1:]\n",
    "    except:\n",
    "        pass\n",
    "\n",
    "    return adress\n",
    "    "
   ]
  },
  {
   "cell_type": "code",
   "execution_count": 188,
   "metadata": {},
   "outputs": [
    {
     "name": "stdout",
     "output_type": "stream",
     "text": [
      "48.83221\n",
      "2.3163892\n"
     ]
    }
   ],
   "source": [
    "import requests\n",
    "import urllib.parse\n",
    "\n",
    "address = clear_adress(hostels_list['adress'][0])\n",
    "\n",
    "url = 'https://nominatim.openstreetmap.org/search/' + urllib.parse.quote(address) +'?format=json'\n",
    "\n",
    "response = requests.get(url).json()\n",
    "print(response[0][\"lat\"])\n",
    "print(response[0][\"lon\"])"
   ]
  }
 ],
 "metadata": {
  "kernelspec": {
   "display_name": "Python 3.9.5 64-bit",
   "language": "python",
   "name": "python3"
  },
  "language_info": {
   "codemirror_mode": {
    "name": "ipython",
    "version": 3
   },
   "file_extension": ".py",
   "mimetype": "text/x-python",
   "name": "python",
   "nbconvert_exporter": "python",
   "pygments_lexer": "ipython3",
   "version": "3.9.5"
  },
  "orig_nbformat": 4,
  "vscode": {
   "interpreter": {
    "hash": "7812ea015bdcee6f23a998adcdd2ef97c151c0c241b7b7070987d9313e41299d"
   }
  }
 },
 "nbformat": 4,
 "nbformat_minor": 2
}
