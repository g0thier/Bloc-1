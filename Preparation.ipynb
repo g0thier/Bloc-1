{
 "cells": [
  {
   "cell_type": "code",
   "execution_count": 1,
   "metadata": {},
   "outputs": [],
   "source": [
    "# Usuals imports \n",
    "import numpy as np\n",
    "import pandas as pd \n",
    "import requests"
   ]
  },
  {
   "cell_type": "markdown",
   "metadata": {},
   "source": [
    "## Cities "
   ]
  },
  {
   "cell_type": "code",
   "execution_count": 2,
   "metadata": {},
   "outputs": [],
   "source": [
    "cities = [\"Mont Saint Michel\", \"St Malo\", \"Bayeux\", \"Le Havre\", \"Rouen\", \"Paris\", \"Amiens\", \"Lille\", \"Strasbourg\", \"Chateau du Haut Koenigsbourg\", \"Colmar\", \"Eguisheim\", \"Besancon\", \"Dijon\", \"Annecy\", \"Grenoble\", \"Lyon\", \"Gorges du Verdon\", \"Bormes les Mimosas\", \"Cassis\", \"Marseille\", \"Aix en Provence\", \"Avignon\", \"Uzes\", \"Nimes\", \"Aigues Mortes\", \"Saintes Maries de la mer\", \"Collioure\", \"Carcassonne\", \"Ariege\", \"Toulouse\", \"Montauban\", \"Biarritz\", \"Bayonne\", \"La Rochelle\"]"
   ]
  },
  {
   "cell_type": "markdown",
   "metadata": {},
   "source": [
    "## Dataframe Cities "
   ]
  },
  {
   "cell_type": "code",
   "execution_count": 3,
   "metadata": {},
   "outputs": [],
   "source": [
    "cities_locations = pd.DataFrame(columns= ['city', 'country', 'latitude', 'longitude', 'adress'])\n",
    "\n",
    "for city in cities:\n",
    "    country = 'France'\n",
    "    latitude = 0.0\n",
    "    longitude = 0.0\n",
    "    adress = ''\n",
    "\n",
    "    # Creating urls params\n",
    "    payload = {'city': city, 'country': country, 'format': 'jsonv2'}\n",
    "\n",
    "    # Create the requests \n",
    "    r = requests.get('https://nominatim.openstreetmap.org/search.php?', params=payload)\n",
    "\n",
    "    # check result available \n",
    "    if r.status_code == 200 :\n",
    "        r_result = pd.DataFrame(r.json())\n",
    "        #attrib location \n",
    "        try: \n",
    "            latitude = r_result['lat'][0]\n",
    "            longitude = r_result['lon'][0]\n",
    "            adress =  r_result['display_name'][0]\n",
    "\n",
    "        except:\n",
    "            #try with county \n",
    "            payload = {'county': city, 'country': country, 'format': 'jsonv2'}\n",
    "            r = requests.get('https://nominatim.openstreetmap.org/search.php?', params=payload)\n",
    "            r_result = pd.DataFrame(r.json())\n",
    "\n",
    "            try: \n",
    "                latitude = r_result['lat'][0]\n",
    "                longitude = r_result['lon'][0]\n",
    "                adress =  r_result['display_name'][0]\n",
    "\n",
    "            except:\n",
    "                #try with street \n",
    "                payload = {'street': city, 'country': country, 'format': 'jsonv2'}\n",
    "                r = requests.get('https://nominatim.openstreetmap.org/search.php?', params=payload)\n",
    "                r_result = pd.DataFrame(r.json())\n",
    "\n",
    "                try: \n",
    "                    latitude = r_result['lat'][0]\n",
    "                    longitude = r_result['lon'][0]\n",
    "                    adress =  r_result['display_name'][0]\n",
    "                \n",
    "                except:\n",
    "                    pass\n",
    "\n",
    "        new_city = pd.DataFrame(columns= ['city', 'country', 'latitude', 'longitude', 'adress'], \n",
    "                                   data= [[ city, country, latitude, longitude, adress]])\n",
    "\n",
    "        cities_locations = pd.concat([cities_locations, new_city])\n",
    "\n",
    "# reset index due to concat.\n",
    "cities_locations.reset_index(inplace= True)\n",
    "cities_locations.drop(columns=['index'], inplace= True)"
   ]
  },
  {
   "cell_type": "markdown",
   "metadata": {},
   "source": [
    "## Dataframe Wheater in Cities :"
   ]
  },
  {
   "cell_type": "code",
   "execution_count": 4,
   "metadata": {},
   "outputs": [
    {
     "name": "stdout",
     "output_type": "stream",
     "text": [
      "401\n",
      "b'{\"cod\":401, \"message\": \"Invalid API key. Please see http://openweathermap.org/faq#error401 for more info.\"}'\n"
     ]
    }
   ],
   "source": [
    "# https://openweathermap.org/api/one-call-3\n",
    "# \n",
    "KEYS = open('src/KEYS.txt', 'r').read()\n",
    "\n",
    "latitude = cities_locations['latitude'][0]\n",
    "longitude = cities_locations['longitude'][0]\n",
    "\n",
    "# Creating urls params\n",
    "payload = {'lat': latitude, 'lon': longitude, 'appid': KEYS}\n",
    "\n",
    "# Create the requests \n",
    "r = requests.get('https://api.openweathermap.org/data/3.0/onecall?', params=payload)\n",
    "\n",
    "print(r.status_code)\n",
    "\n",
    "print(r.content)\n"
   ]
  },
  {
   "cell_type": "markdown",
   "metadata": {},
   "source": [
    "## Goals 🎯\n",
    "\n",
    "As the project has just started, your team doesn't have any data that can be used to create this application. Therefore, your job will be to: \n",
    "\n",
    "* Scrape data from destinations \n",
    "* Get weather data from each destination \n",
    "* Get hotels' info about each destination\n",
    "* Store all the information above in a data lake\n",
    "* Extract, transform and load cleaned data from your datalake to a data warehouse"
   ]
  }
 ],
 "metadata": {
  "kernelspec": {
   "display_name": "Python 3.9.5 64-bit",
   "language": "python",
   "name": "python3"
  },
  "language_info": {
   "codemirror_mode": {
    "name": "ipython",
    "version": 3
   },
   "file_extension": ".py",
   "mimetype": "text/x-python",
   "name": "python",
   "nbconvert_exporter": "python",
   "pygments_lexer": "ipython3",
   "version": "3.9.5"
  },
  "orig_nbformat": 4,
  "vscode": {
   "interpreter": {
    "hash": "7812ea015bdcee6f23a998adcdd2ef97c151c0c241b7b7070987d9313e41299d"
   }
  }
 },
 "nbformat": 4,
 "nbformat_minor": 2
}
