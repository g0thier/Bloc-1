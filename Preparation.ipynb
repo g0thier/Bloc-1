{
 "cells": [
  {
   "cell_type": "code",
   "execution_count": 5,
   "metadata": {},
   "outputs": [],
   "source": [
    "# Usuals imports \n",
    "import numpy as np\n",
    "import pandas as pd \n",
    "import requests"
   ]
  },
  {
   "cell_type": "markdown",
   "metadata": {},
   "source": [
    "## Cities "
   ]
  },
  {
   "cell_type": "code",
   "execution_count": 6,
   "metadata": {},
   "outputs": [],
   "source": [
    "cities = [\"Mont Saint Michel\", \"St Malo\", \"Bayeux\", \"Le Havre\", \"Rouen\", \"Paris\", \"Amiens\", \"Lille\", \"Strasbourg\", \"Chateau du Haut Koenigsbourg\", \"Colmar\", \"Eguisheim\", \"Besancon\", \"Dijon\", \"Annecy\", \"Grenoble\", \"Lyon\", \"Gorges du Verdon\", \"Bormes les Mimosas\", \"Cassis\", \"Marseille\", \"Aix en Provence\", \"Avignon\", \"Uzes\", \"Nimes\", \"Aigues Mortes\", \"Saintes Maries de la mer\", \"Collioure\", \"Carcassonne\", \"Ariege\", \"Toulouse\", \"Montauban\", \"Biarritz\", \"Bayonne\", \"La Rochelle\"]"
   ]
  },
  {
   "cell_type": "markdown",
   "metadata": {},
   "source": [
    "## Dataframe Cities "
   ]
  },
  {
   "cell_type": "code",
   "execution_count": 7,
   "metadata": {},
   "outputs": [],
   "source": [
    "cities_locations = pd.DataFrame(columns= ['city', 'country', 'latitude', 'longitude', 'adress'])\n",
    "\n",
    "for city in cities:\n",
    "    country = 'France'\n",
    "    latitude = 0.0\n",
    "    longitude = 0.0\n",
    "    adress = ''\n",
    "\n",
    "    # Creating urls params\n",
    "    payload = {'city': city, 'country': country, 'format': 'jsonv2'}\n",
    "\n",
    "    # Create the requests \n",
    "    r = requests.get('https://nominatim.openstreetmap.org/search.php?', params=payload)\n",
    "\n",
    "    # check result available \n",
    "    if r.status_code == 200 :\n",
    "        r_result = pd.DataFrame(r.json())\n",
    "        #attrib location \n",
    "        try: \n",
    "            latitude = r_result['lat'][0]\n",
    "            longitude = r_result['lon'][0]\n",
    "            adress =  r_result['display_name'][0]\n",
    "\n",
    "        except:\n",
    "            #try with county \n",
    "            payload = {'county': city, 'country': country, 'format': 'jsonv2'}\n",
    "            r = requests.get('https://nominatim.openstreetmap.org/search.php?', params=payload)\n",
    "            r_result = pd.DataFrame(r.json())\n",
    "\n",
    "            try: \n",
    "                latitude = r_result['lat'][0]\n",
    "                longitude = r_result['lon'][0]\n",
    "                adress =  r_result['display_name'][0]\n",
    "\n",
    "            except:\n",
    "                #try with street \n",
    "                payload = {'street': city, 'country': country, 'format': 'jsonv2'}\n",
    "                r = requests.get('https://nominatim.openstreetmap.org/search.php?', params=payload)\n",
    "                r_result = pd.DataFrame(r.json())\n",
    "\n",
    "                try: \n",
    "                    latitude = r_result['lat'][0]\n",
    "                    longitude = r_result['lon'][0]\n",
    "                    adress =  r_result['display_name'][0]\n",
    "                \n",
    "                except:\n",
    "                    pass\n",
    "\n",
    "        new_city = pd.DataFrame(columns= ['city', 'country', 'latitude', 'longitude', 'adress'], \n",
    "                                   data= [[ city, country, latitude, longitude, adress]])\n",
    "\n",
    "        cities_locations = pd.concat([cities_locations, new_city])\n",
    "\n",
    "# reset index due to concat.\n",
    "cities_locations.reset_index(inplace= True)\n",
    "cities_locations.drop(columns=['index'], inplace= True)"
   ]
  },
  {
   "cell_type": "markdown",
   "metadata": {},
   "source": [
    "## Dataframe Wheater in Cities :"
   ]
  },
  {
   "cell_type": "code",
   "execution_count": 37,
   "metadata": {},
   "outputs": [
    {
     "name": "stdout",
     "output_type": "stream",
     "text": [
      "{'wind_cdir': 'NW', 'rh': 81, 'pod': 'd', 'lon': -1.5115, 'pres': 1016.96, 'timezone': 'Europe/Paris', 'ob_time': '2022-08-25 18:04', 'country_code': 'FR', 'clouds': 79, 'ts': 1661450660, 'solar_rad': 70.4, 'state_code': '28', 'city_name': 'Le Mont-Saint-Michel', 'wind_spd': 5.6136, 'slp': 1019.13, 'wind_cdir_full': 'northwest', 'sunrise': '05:16', 'app_temp': 19.2, 'dni': 441.63, 'vis': 16, 'sources': ['analysis'], 'h_angle': 64.3, 'dewpt': 15.8, 'snow': 0, 'aqi': 42, 'dhi': 49.3, 'wind_dir': 324, 'elev_angle': 9.19, 'ghi': 111.36, 'precip': 0, 'sunset': '19:04', 'lat': 48.636, 'uv': 0.820866, 'datetime': '2022-08-25:17', 'temp': 19.1, 'weather': {'icon': 'c03d', 'code': 803, 'description': 'Broken clouds'}, 'station': 'LFRD'}\n"
     ]
    }
   ],
   "source": [
    "# https://www.weatherbit.io/api\n",
    "# https://www.weatherbit.io/api/weather-current\n",
    "# https://www.weatherbit.io/api/codes\n",
    "\n",
    "KEYS = open('src/KEYS.txt', 'r').read()\n",
    "\n",
    "\n",
    "# cities_locations = cities_locations.assign(temperature=0, app_temp=0, C=\"\")\n",
    "\n",
    "# len(cities_locations)\n",
    "for item in range(1):\n",
    "    latitude = cities_locations['latitude'][item]\n",
    "    longitude = cities_locations['longitude'][item]\n",
    "\n",
    "    # Creating urls params\n",
    "    payload = {'key': KEYS, 'lat': latitude, 'lon': longitude, }\n",
    "\n",
    "    # Create the requests \n",
    "    r = requests.get('http://api.weatherbit.io/v2.0/current?', params=payload)\n",
    "\n",
    "    # check result available \n",
    "    if r.status_code == 200 :\n",
    "        r_result = pd.DataFrame(r.json())\n",
    "        data = r_result['data'][0]\n",
    "        weather = data['weather']\n",
    "\n",
    "        pressure = data['pres'] # Pressure (mb)\n",
    "        temperature = data['temp'] # Temperature (c°)\n",
    "        felt_temperature = data['app_temp'] # Apparent temperature (c°)\n",
    "        humidity = data['rh'] # Relative humidity (%)\n",
    "        cloud_coverage = data['clouds'] # Cloud coverage (%)\n",
    "        dew_point = data['dewpt'] # Dew point (c°).\n",
    "        wind = data['wind_spd'] # Wind speed (m/s).\n",
    "\n",
    "\n",
    "        print(data) \n",
    "\n",
    "\n",
    "# weather: { \n",
    "    # code:Weather code.\n",
    "    # description: Text weather description.\n",
    "\n"
   ]
  },
  {
   "cell_type": "markdown",
   "metadata": {},
   "source": [
    "## Goals 🎯\n",
    "\n",
    "As the project has just started, your team doesn't have any data that can be used to create this application. Therefore, your job will be to: \n",
    "\n",
    "* √ Scrape data from destinations \n",
    "* √ Get weather data from each destination \n",
    "* Get hotels' info about each destination\n",
    "* Store all the information above in a data lake\n",
    "* Extract, transform and load cleaned data from your datalake to a data warehouse"
   ]
  }
 ],
 "metadata": {
  "kernelspec": {
   "display_name": "Python 3.9.5 64-bit",
   "language": "python",
   "name": "python3"
  },
  "language_info": {
   "codemirror_mode": {
    "name": "ipython",
    "version": 3
   },
   "file_extension": ".py",
   "mimetype": "text/x-python",
   "name": "python",
   "nbconvert_exporter": "python",
   "pygments_lexer": "ipython3",
   "version": "3.9.5"
  },
  "orig_nbformat": 4,
  "vscode": {
   "interpreter": {
    "hash": "7812ea015bdcee6f23a998adcdd2ef97c151c0c241b7b7070987d9313e41299d"
   }
  }
 },
 "nbformat": 4,
 "nbformat_minor": 2
}
