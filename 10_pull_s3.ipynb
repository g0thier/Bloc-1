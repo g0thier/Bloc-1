{
 "cells": [
  {
   "cell_type": "markdown",
   "metadata": {},
   "source": [
    "# Pull from AWS S3"
   ]
  },
  {
   "cell_type": "code",
   "execution_count": 1,
   "metadata": {},
   "outputs": [],
   "source": [
    "import boto3\n",
    "from io import BytesIO\n",
    "import logging\n",
    "import pandas as pd\n",
    "\n",
    "# gitignore file security AWS password access\n",
    "# rootkey.csv create in webconsole AWS -> MYNAME -> Info. Id. Secu. -> IAM -> Access Key \n",
    "rootkey = pd.read_csv('src/rootkey.csv',header=None, sep=\"=\").T\n",
    "rootkey.columns = rootkey.iloc[0]\n",
    "rootkey = rootkey.drop([0])\n",
    "\n",
    "# Sensitive informations Account\n",
    "AWSAccessKeyId = rootkey['AWSAccessKeyId'].iloc[0]\n",
    "AWSSecretKey = rootkey['AWSSecretKey'].iloc[0]\n",
    "\n",
    "# Open session \n",
    "session = boto3.Session(aws_access_key_id=AWSAccessKeyId, \n",
    "                        aws_secret_access_key=AWSSecretKey)\n",
    "\n",
    "# Run session\n",
    "s3 = session.resource(\"s3\")\n",
    "\n",
    "# Upload file \n",
    "bucket_name = 'compartiment-bucket-s3-jedha-rg'\n",
    "name = 'booking_weather_dataset.csv' \n",
    "obj = s3.Object(bucket_name, name)\n",
    "\n",
    "# Reading the File as String With Encoding\n",
    "file_content = BytesIO(obj.get()['Body'].read())\n",
    "\n",
    "dataframe = pd.read_csv(file_content)"
   ]
  },
  {
   "cell_type": "code",
   "execution_count": 2,
   "metadata": {},
   "outputs": [
    {
     "data": {
      "text/plain": [
       "Index(['hotel_name', 'hotel_adress', 'hotel_note', 'hotel_describe',\n",
       "       'hotel_latitude', 'hotel_longitude', 'url_hostel', 'city', 'latitude',\n",
       "       'longitude', 'adress', 'weather_code', 'felt_temperature',\n",
       "       'cloud_coverage', 'precipitation', 'wind', 'description'],\n",
       "      dtype='object')"
      ]
     },
     "execution_count": 2,
     "metadata": {},
     "output_type": "execute_result"
    }
   ],
   "source": [
    "dataframe.columns"
   ]
  },
  {
   "cell_type": "markdown",
   "metadata": {},
   "source": [
    "## Do a selection of nice out cities"
   ]
  },
  {
   "cell_type": "code",
   "execution_count": 3,
   "metadata": {},
   "outputs": [
    {
     "name": "stdout",
     "output_type": "stream",
     "text": [
      "['Colmar' 'Nimes' 'Strasbourg' 'Toulouse' 'Dijon']\n"
     ]
    }
   ],
   "source": [
    "# Drop heat wave °C\n",
    "dataframe = dataframe[dataframe['felt_temperature'] < 36 ]\n",
    "\n",
    "# Sort by best weather \n",
    "dataframe = dataframe.sort_values(by=['cloud_coverage', 'precipitation', 'wind'], ascending=True)\n",
    "\n",
    "# Select the 5 first cities weather\n",
    "best_weather_cities = dataframe['city'].unique()[0:5]\n",
    "print(best_weather_cities)\n",
    "\n",
    "# Drop other cities\n",
    "dataframe = dataframe[dataframe['city'].isin(best_weather_cities)]"
   ]
  },
  {
   "cell_type": "markdown",
   "metadata": {},
   "source": [
    "## Top 20 of hostels"
   ]
  },
  {
   "cell_type": "code",
   "execution_count": 4,
   "metadata": {},
   "outputs": [],
   "source": [
    "# Best hotels \n",
    "dataframe = dataframe.sort_values(by='hotel_note', ascending=False)\n",
    "\n",
    "# Keep 20 first hotels by city\n",
    "best_hotels = pd.DataFrame()\n",
    "\n",
    "for city in best_weather_cities:\n",
    "    city_dataframe = dataframe[dataframe['city'] == city]\n",
    "\n",
    "    if len(city_dataframe) > 20:\n",
    "        city_dataframe = city_dataframe[0:20]\n",
    "        \n",
    "    best_hotels = pd.concat([best_hotels, city_dataframe])\n",
    "\n",
    "dataframe = best_hotels"
   ]
  },
  {
   "cell_type": "markdown",
   "metadata": {},
   "source": [
    "## Plot the top 5 cities, 20 hostels per city"
   ]
  },
  {
   "cell_type": "code",
   "execution_count": 5,
   "metadata": {},
   "outputs": [
    {
     "data": {
      "application/vnd.plotly.v1+json": {
       "config": {
        "plotlyServerURL": "https://plot.ly"
       },
       "data": [
        {
         "customdata": [
          [
           9.5
          ],
          [
           9.5
          ],
          [
           9.3
          ],
          [
           9.2
          ],
          [
           9
          ],
          [
           8.7
          ],
          [
           8.6
          ],
          [
           8.6
          ],
          [
           8.5
          ],
          [
           8.5
          ],
          [
           8.4
          ],
          [
           8.3
          ],
          [
           8.3
          ],
          [
           8.3
          ],
          [
           8.2
          ],
          [
           8.1
          ],
          [
           8.1
          ],
          [
           8.1
          ],
          [
           8
          ],
          [
           7.8
          ]
         ],
         "hovertemplate": "<b>%{hovertext}</b><br><br>Rating=%{marker.color}<br>Adress=%{text}<br>Lat=%{lat}<br>Lon=%{lon}<extra></extra>",
         "hovertext": [
          "les appartements saint martin",
          "SERENITY Colmar - Gîtes de Prestige 4 et 5 étoiles - 2, 4 et 6 personnes- Centre Historique",
          "At home in the center of Colmar",
          "Le petit nid de Max et Sophie",
          "Colmar Hotel",
          "PAUL & PIA - Welcome Home Hotel",
          "comfort expo colmar",
          "ColmarAppart Vauban",
          "Suites Residences Spa",
          "cotoon colmar8",
          "kyriad colmar cita c administrative",
          "aux bijoux de colmar le saphir",
          "Hotel Saint-Martin",
          "AU brochet",
          "la petite venise",
          "Greet Hotel Colmar",
          "Hotel L'Europe",
          "Mercure Colmar Centre Unterlinden",
          "arc en ciel hexagone",
          "appart 39 odalys la rose d 39 argent"
         ],
         "lat": [
          48.0773076,
          48.0779937,
          48.0794446,
          48.0811133,
          48.071669,
          48.0764807,
          48.0994217,
          48.0779678,
          48.0785911,
          48.1166506,
          48.0854518,
          48.0760726,
          48.0764197,
          48.0740163,
          48.0724377,
          48.0724326,
          48.0796438,
          48.0811133,
          48.087456,
          48.07776
         ],
         "legendgroup": "",
         "lon": [
          7.3566517,
          7.36123,
          7.3622905,
          7.3567261,
          7.3478682,
          7.3498396,
          7.362653,
          7.3609585,
          7.3541734,
          7.4761057,
          7.3573555,
          7.3562355,
          7.3593408,
          7.3579863,
          7.3540627,
          7.3604064,
          7.3999462,
          7.3567261,
          7.3607193,
          7.3694187
         ],
         "marker": {
          "color": [
           9.5,
           9.5,
           9.3,
           9.2,
           9,
           8.7,
           8.6,
           8.6,
           8.5,
           8.5,
           8.4,
           8.3,
           8.3,
           8.3,
           8.2,
           8.1,
           8.1,
           8.1,
           8,
           7.8
          ],
          "coloraxis": "coloraxis",
          "size": [
           9.5,
           9.5,
           9.3,
           9.2,
           9,
           8.7,
           8.6,
           8.6,
           8.5,
           8.5,
           8.4,
           8.3,
           8.3,
           8.3,
           8.2,
           8.1,
           8.1,
           8.1,
           8,
           7.8
          ],
          "sizemode": "area",
          "sizeref": 0.042222222222222223
         },
         "mode": "markers+text",
         "name": "",
         "showlegend": false,
         "subplot": "mapbox",
         "text": [
          "5 rue des Marchands, 68000 Colmar, France",
          "18 Rue de la Corneille, 68000 Colmar, France",
          "3 Rue de l'Enceinte, 68000 Colmar, France",
          "5 Rue Golbéry, 68000 Colmar, France",
          "14 route de Rouffach, 68000 Colmar, France",
          "1, Rue De La Gare, 68000 Colmar, France",
          "2c rue Timken, 68000 Colmar, France",
          "14 RUE VAUBAN, 68000 Colmar, France",
          "27 Rue Kleber, 68000 Colmar, France",
          "21 B grand'rue, 68000 Colmar, France",
          "2 Rue De La Fecht, 68000 Colmar, France",
          "1 Rue Berthe Molly, 68000 Colmar, France",
          "38, Grand'Rue, 68000 Colmar, France",
          "5 Rue de la Poissonnerie, 68000 Colmar, France",
          "11 avenue Joffre, 68000 Colmar, France",
          "83 Route De Bâle, 68000 Colmar, France",
          "15 route de Neuf Brisach - Horbourg Wihr, 68180 Colmar, France",
          "15 rue Golbery, 68000 Colmar, France",
          "38, Route De Sélestat, 68000 Colmar, France",
          "2 RUE DU GRILLENBREIT, 68000 Colmar, France"
         ],
         "type": "scattermapbox"
        }
       ],
       "layout": {
        "annotations": [
         {
          "align": "left",
          "showarrow": false,
          "text": "<br>The cloud coverage is 0%, it's raining 0 mm/h and the wind blowing at 4 km/h",
          "x": 0,
          "y": -0.1,
          "yref": "paper"
         }
        ],
        "coloraxis": {
         "cmax": 10,
         "cmin": 0,
         "colorbar": {
          "title": {
           "text": "Rating"
          }
         },
         "colorscale": [
          [
           0,
           "rgb(243, 231, 155)"
          ],
          [
           0.16666666666666666,
           "rgb(250, 196, 132)"
          ],
          [
           0.3333333333333333,
           "rgb(248, 160, 126)"
          ],
          [
           0.5,
           "rgb(235, 127, 134)"
          ],
          [
           0.6666666666666666,
           "rgb(206, 102, 147)"
          ],
          [
           0.8333333333333334,
           "rgb(160, 89, 160)"
          ],
          [
           1,
           "rgb(92, 83, 165)"
          ]
         ]
        },
        "height": 600,
        "legend": {
         "itemsizing": "constant",
         "tracegroupgap": 0
        },
        "mapbox": {
         "center": {
          "lat": 48.07775170000001,
          "lon": 7.357964100000001
         },
         "domain": {
          "x": [
           0,
           1
          ],
          "y": [
           0,
           1
          ]
         },
         "style": "carto-positron",
         "zoom": 12
        },
        "template": {
         "data": {
          "bar": [
           {
            "error_x": {
             "color": "#2a3f5f"
            },
            "error_y": {
             "color": "#2a3f5f"
            },
            "marker": {
             "line": {
              "color": "#E5ECF6",
              "width": 0.5
             },
             "pattern": {
              "fillmode": "overlay",
              "size": 10,
              "solidity": 0.2
             }
            },
            "type": "bar"
           }
          ],
          "barpolar": [
           {
            "marker": {
             "line": {
              "color": "#E5ECF6",
              "width": 0.5
             },
             "pattern": {
              "fillmode": "overlay",
              "size": 10,
              "solidity": 0.2
             }
            },
            "type": "barpolar"
           }
          ],
          "carpet": [
           {
            "aaxis": {
             "endlinecolor": "#2a3f5f",
             "gridcolor": "white",
             "linecolor": "white",
             "minorgridcolor": "white",
             "startlinecolor": "#2a3f5f"
            },
            "baxis": {
             "endlinecolor": "#2a3f5f",
             "gridcolor": "white",
             "linecolor": "white",
             "minorgridcolor": "white",
             "startlinecolor": "#2a3f5f"
            },
            "type": "carpet"
           }
          ],
          "choropleth": [
           {
            "colorbar": {
             "outlinewidth": 0,
             "ticks": ""
            },
            "type": "choropleth"
           }
          ],
          "contour": [
           {
            "colorbar": {
             "outlinewidth": 0,
             "ticks": ""
            },
            "colorscale": [
             [
              0,
              "#0d0887"
             ],
             [
              0.1111111111111111,
              "#46039f"
             ],
             [
              0.2222222222222222,
              "#7201a8"
             ],
             [
              0.3333333333333333,
              "#9c179e"
             ],
             [
              0.4444444444444444,
              "#bd3786"
             ],
             [
              0.5555555555555556,
              "#d8576b"
             ],
             [
              0.6666666666666666,
              "#ed7953"
             ],
             [
              0.7777777777777778,
              "#fb9f3a"
             ],
             [
              0.8888888888888888,
              "#fdca26"
             ],
             [
              1,
              "#f0f921"
             ]
            ],
            "type": "contour"
           }
          ],
          "contourcarpet": [
           {
            "colorbar": {
             "outlinewidth": 0,
             "ticks": ""
            },
            "type": "contourcarpet"
           }
          ],
          "heatmap": [
           {
            "colorbar": {
             "outlinewidth": 0,
             "ticks": ""
            },
            "colorscale": [
             [
              0,
              "#0d0887"
             ],
             [
              0.1111111111111111,
              "#46039f"
             ],
             [
              0.2222222222222222,
              "#7201a8"
             ],
             [
              0.3333333333333333,
              "#9c179e"
             ],
             [
              0.4444444444444444,
              "#bd3786"
             ],
             [
              0.5555555555555556,
              "#d8576b"
             ],
             [
              0.6666666666666666,
              "#ed7953"
             ],
             [
              0.7777777777777778,
              "#fb9f3a"
             ],
             [
              0.8888888888888888,
              "#fdca26"
             ],
             [
              1,
              "#f0f921"
             ]
            ],
            "type": "heatmap"
           }
          ],
          "heatmapgl": [
           {
            "colorbar": {
             "outlinewidth": 0,
             "ticks": ""
            },
            "colorscale": [
             [
              0,
              "#0d0887"
             ],
             [
              0.1111111111111111,
              "#46039f"
             ],
             [
              0.2222222222222222,
              "#7201a8"
             ],
             [
              0.3333333333333333,
              "#9c179e"
             ],
             [
              0.4444444444444444,
              "#bd3786"
             ],
             [
              0.5555555555555556,
              "#d8576b"
             ],
             [
              0.6666666666666666,
              "#ed7953"
             ],
             [
              0.7777777777777778,
              "#fb9f3a"
             ],
             [
              0.8888888888888888,
              "#fdca26"
             ],
             [
              1,
              "#f0f921"
             ]
            ],
            "type": "heatmapgl"
           }
          ],
          "histogram": [
           {
            "marker": {
             "pattern": {
              "fillmode": "overlay",
              "size": 10,
              "solidity": 0.2
             }
            },
            "type": "histogram"
           }
          ],
          "histogram2d": [
           {
            "colorbar": {
             "outlinewidth": 0,
             "ticks": ""
            },
            "colorscale": [
             [
              0,
              "#0d0887"
             ],
             [
              0.1111111111111111,
              "#46039f"
             ],
             [
              0.2222222222222222,
              "#7201a8"
             ],
             [
              0.3333333333333333,
              "#9c179e"
             ],
             [
              0.4444444444444444,
              "#bd3786"
             ],
             [
              0.5555555555555556,
              "#d8576b"
             ],
             [
              0.6666666666666666,
              "#ed7953"
             ],
             [
              0.7777777777777778,
              "#fb9f3a"
             ],
             [
              0.8888888888888888,
              "#fdca26"
             ],
             [
              1,
              "#f0f921"
             ]
            ],
            "type": "histogram2d"
           }
          ],
          "histogram2dcontour": [
           {
            "colorbar": {
             "outlinewidth": 0,
             "ticks": ""
            },
            "colorscale": [
             [
              0,
              "#0d0887"
             ],
             [
              0.1111111111111111,
              "#46039f"
             ],
             [
              0.2222222222222222,
              "#7201a8"
             ],
             [
              0.3333333333333333,
              "#9c179e"
             ],
             [
              0.4444444444444444,
              "#bd3786"
             ],
             [
              0.5555555555555556,
              "#d8576b"
             ],
             [
              0.6666666666666666,
              "#ed7953"
             ],
             [
              0.7777777777777778,
              "#fb9f3a"
             ],
             [
              0.8888888888888888,
              "#fdca26"
             ],
             [
              1,
              "#f0f921"
             ]
            ],
            "type": "histogram2dcontour"
           }
          ],
          "mesh3d": [
           {
            "colorbar": {
             "outlinewidth": 0,
             "ticks": ""
            },
            "type": "mesh3d"
           }
          ],
          "parcoords": [
           {
            "line": {
             "colorbar": {
              "outlinewidth": 0,
              "ticks": ""
             }
            },
            "type": "parcoords"
           }
          ],
          "pie": [
           {
            "automargin": true,
            "type": "pie"
           }
          ],
          "scatter": [
           {
            "fillpattern": {
             "fillmode": "overlay",
             "size": 10,
             "solidity": 0.2
            },
            "type": "scatter"
           }
          ],
          "scatter3d": [
           {
            "line": {
             "colorbar": {
              "outlinewidth": 0,
              "ticks": ""
             }
            },
            "marker": {
             "colorbar": {
              "outlinewidth": 0,
              "ticks": ""
             }
            },
            "type": "scatter3d"
           }
          ],
          "scattercarpet": [
           {
            "marker": {
             "colorbar": {
              "outlinewidth": 0,
              "ticks": ""
             }
            },
            "type": "scattercarpet"
           }
          ],
          "scattergeo": [
           {
            "marker": {
             "colorbar": {
              "outlinewidth": 0,
              "ticks": ""
             }
            },
            "type": "scattergeo"
           }
          ],
          "scattergl": [
           {
            "marker": {
             "colorbar": {
              "outlinewidth": 0,
              "ticks": ""
             }
            },
            "type": "scattergl"
           }
          ],
          "scattermapbox": [
           {
            "marker": {
             "colorbar": {
              "outlinewidth": 0,
              "ticks": ""
             }
            },
            "type": "scattermapbox"
           }
          ],
          "scatterpolar": [
           {
            "marker": {
             "colorbar": {
              "outlinewidth": 0,
              "ticks": ""
             }
            },
            "type": "scatterpolar"
           }
          ],
          "scatterpolargl": [
           {
            "marker": {
             "colorbar": {
              "outlinewidth": 0,
              "ticks": ""
             }
            },
            "type": "scatterpolargl"
           }
          ],
          "scatterternary": [
           {
            "marker": {
             "colorbar": {
              "outlinewidth": 0,
              "ticks": ""
             }
            },
            "type": "scatterternary"
           }
          ],
          "surface": [
           {
            "colorbar": {
             "outlinewidth": 0,
             "ticks": ""
            },
            "colorscale": [
             [
              0,
              "#0d0887"
             ],
             [
              0.1111111111111111,
              "#46039f"
             ],
             [
              0.2222222222222222,
              "#7201a8"
             ],
             [
              0.3333333333333333,
              "#9c179e"
             ],
             [
              0.4444444444444444,
              "#bd3786"
             ],
             [
              0.5555555555555556,
              "#d8576b"
             ],
             [
              0.6666666666666666,
              "#ed7953"
             ],
             [
              0.7777777777777778,
              "#fb9f3a"
             ],
             [
              0.8888888888888888,
              "#fdca26"
             ],
             [
              1,
              "#f0f921"
             ]
            ],
            "type": "surface"
           }
          ],
          "table": [
           {
            "cells": {
             "fill": {
              "color": "#EBF0F8"
             },
             "line": {
              "color": "white"
             }
            },
            "header": {
             "fill": {
              "color": "#C8D4E3"
             },
             "line": {
              "color": "white"
             }
            },
            "type": "table"
           }
          ]
         },
         "layout": {
          "annotationdefaults": {
           "arrowcolor": "#2a3f5f",
           "arrowhead": 0,
           "arrowwidth": 1
          },
          "autotypenumbers": "strict",
          "coloraxis": {
           "colorbar": {
            "outlinewidth": 0,
            "ticks": ""
           }
          },
          "colorscale": {
           "diverging": [
            [
             0,
             "#8e0152"
            ],
            [
             0.1,
             "#c51b7d"
            ],
            [
             0.2,
             "#de77ae"
            ],
            [
             0.3,
             "#f1b6da"
            ],
            [
             0.4,
             "#fde0ef"
            ],
            [
             0.5,
             "#f7f7f7"
            ],
            [
             0.6,
             "#e6f5d0"
            ],
            [
             0.7,
             "#b8e186"
            ],
            [
             0.8,
             "#7fbc41"
            ],
            [
             0.9,
             "#4d9221"
            ],
            [
             1,
             "#276419"
            ]
           ],
           "sequential": [
            [
             0,
             "#0d0887"
            ],
            [
             0.1111111111111111,
             "#46039f"
            ],
            [
             0.2222222222222222,
             "#7201a8"
            ],
            [
             0.3333333333333333,
             "#9c179e"
            ],
            [
             0.4444444444444444,
             "#bd3786"
            ],
            [
             0.5555555555555556,
             "#d8576b"
            ],
            [
             0.6666666666666666,
             "#ed7953"
            ],
            [
             0.7777777777777778,
             "#fb9f3a"
            ],
            [
             0.8888888888888888,
             "#fdca26"
            ],
            [
             1,
             "#f0f921"
            ]
           ],
           "sequentialminus": [
            [
             0,
             "#0d0887"
            ],
            [
             0.1111111111111111,
             "#46039f"
            ],
            [
             0.2222222222222222,
             "#7201a8"
            ],
            [
             0.3333333333333333,
             "#9c179e"
            ],
            [
             0.4444444444444444,
             "#bd3786"
            ],
            [
             0.5555555555555556,
             "#d8576b"
            ],
            [
             0.6666666666666666,
             "#ed7953"
            ],
            [
             0.7777777777777778,
             "#fb9f3a"
            ],
            [
             0.8888888888888888,
             "#fdca26"
            ],
            [
             1,
             "#f0f921"
            ]
           ]
          },
          "colorway": [
           "#636efa",
           "#EF553B",
           "#00cc96",
           "#ab63fa",
           "#FFA15A",
           "#19d3f3",
           "#FF6692",
           "#B6E880",
           "#FF97FF",
           "#FECB52"
          ],
          "font": {
           "color": "#2a3f5f"
          },
          "geo": {
           "bgcolor": "white",
           "lakecolor": "white",
           "landcolor": "#E5ECF6",
           "showlakes": true,
           "showland": true,
           "subunitcolor": "white"
          },
          "hoverlabel": {
           "align": "left"
          },
          "hovermode": "closest",
          "mapbox": {
           "style": "light"
          },
          "paper_bgcolor": "white",
          "plot_bgcolor": "#E5ECF6",
          "polar": {
           "angularaxis": {
            "gridcolor": "white",
            "linecolor": "white",
            "ticks": ""
           },
           "bgcolor": "#E5ECF6",
           "radialaxis": {
            "gridcolor": "white",
            "linecolor": "white",
            "ticks": ""
           }
          },
          "scene": {
           "xaxis": {
            "backgroundcolor": "#E5ECF6",
            "gridcolor": "white",
            "gridwidth": 2,
            "linecolor": "white",
            "showbackground": true,
            "ticks": "",
            "zerolinecolor": "white"
           },
           "yaxis": {
            "backgroundcolor": "#E5ECF6",
            "gridcolor": "white",
            "gridwidth": 2,
            "linecolor": "white",
            "showbackground": true,
            "ticks": "",
            "zerolinecolor": "white"
           },
           "zaxis": {
            "backgroundcolor": "#E5ECF6",
            "gridcolor": "white",
            "gridwidth": 2,
            "linecolor": "white",
            "showbackground": true,
            "ticks": "",
            "zerolinecolor": "white"
           }
          },
          "shapedefaults": {
           "line": {
            "color": "#2a3f5f"
           }
          },
          "ternary": {
           "aaxis": {
            "gridcolor": "white",
            "linecolor": "white",
            "ticks": ""
           },
           "baxis": {
            "gridcolor": "white",
            "linecolor": "white",
            "ticks": ""
           },
           "bgcolor": "#E5ECF6",
           "caxis": {
            "gridcolor": "white",
            "linecolor": "white",
            "ticks": ""
           }
          },
          "title": {
           "x": 0.05
          },
          "xaxis": {
           "automargin": true,
           "gridcolor": "white",
           "linecolor": "white",
           "ticks": "",
           "title": {
            "standoff": 15
           },
           "zerolinecolor": "white",
           "zerolinewidth": 2
          },
          "yaxis": {
           "automargin": true,
           "gridcolor": "white",
           "linecolor": "white",
           "ticks": "",
           "title": {
            "standoff": 15
           },
           "zerolinecolor": "white",
           "zerolinewidth": 2
          }
         }
        },
        "title": {
         "text": "Colmar : Clear sky, 21°C"
        },
        "width": 800
       }
      }
     },
     "metadata": {},
     "output_type": "display_data"
    },
    {
     "data": {
      "text/html": [
       "<div>\n",
       "<style scoped>\n",
       "    .dataframe tbody tr th:only-of-type {\n",
       "        vertical-align: middle;\n",
       "    }\n",
       "\n",
       "    .dataframe tbody tr th {\n",
       "        vertical-align: top;\n",
       "    }\n",
       "\n",
       "    .dataframe thead th {\n",
       "        text-align: right;\n",
       "    }\n",
       "</style>\n",
       "<table border=\"1\" class=\"dataframe\">\n",
       "  <thead>\n",
       "    <tr style=\"text-align: right;\">\n",
       "      <th></th>\n",
       "      <th>hotel_name</th>\n",
       "      <th>url_hostel</th>\n",
       "      <th>hotel_describe</th>\n",
       "    </tr>\n",
       "  </thead>\n",
       "  <tbody>\n",
       "    <tr>\n",
       "      <th>0</th>\n",
       "      <td>les appartements saint martin</td>\n",
       "      <td>https://www.booking.com/hotel/fr/les-apparteme...</td>\n",
       "      <td>Bénéficiant d’un emplacement pratique dans l...</td>\n",
       "    </tr>\n",
       "    <tr>\n",
       "      <th>1</th>\n",
       "      <td>SERENITY Colmar - Gîtes de Prestige 4 et 5 éto...</td>\n",
       "      <td>https://www.booking.com/hotel/fr/serenity-colm...</td>\n",
       "      <td>Situé à Colmar, à proximité de la collégiale...</td>\n",
       "    </tr>\n",
       "    <tr>\n",
       "      <th>2</th>\n",
       "      <td>At home in the center of Colmar</td>\n",
       "      <td>https://www.booking.com/hotel/fr/at-home-on-co...</td>\n",
       "      <td>Doté d'une connexion Wi-Fi gratuite, l'héber...</td>\n",
       "    </tr>\n",
       "    <tr>\n",
       "      <th>3</th>\n",
       "      <td>Le petit nid de Max et Sophie</td>\n",
       "      <td>https://www.booking.com/hotel/fr/le-petit-nid-...</td>\n",
       "      <td>Situé à Colmar, à moins de 400 mètres de la ...</td>\n",
       "    </tr>\n",
       "    <tr>\n",
       "      <th>4</th>\n",
       "      <td>Colmar Hotel</td>\n",
       "      <td>https://www.booking.com/hotel/fr/colmar.fr.html</td>\n",
       "      <td>Le Colmar Hotel vous accueille à Colmar, à 1...</td>\n",
       "    </tr>\n",
       "    <tr>\n",
       "      <th>5</th>\n",
       "      <td>PAUL &amp; PIA - Welcome Home Hotel</td>\n",
       "      <td>https://www.booking.com/hotel/fr/kyriad-colmar...</td>\n",
       "      <td>L’Hôtel Centre Gare est situé à 500 mètres d...</td>\n",
       "    </tr>\n",
       "    <tr>\n",
       "      <th>6</th>\n",
       "      <td>comfort expo colmar</td>\n",
       "      <td>https://www.booking.com/hotel/fr/comfort-expo-...</td>\n",
       "      <td>Installé à 4 km du centre-ville de Colmar et à...</td>\n",
       "    </tr>\n",
       "    <tr>\n",
       "      <th>7</th>\n",
       "      <td>ColmarAppart Vauban</td>\n",
       "      <td>https://www.booking.com/hotel/fr/colmarappart-...</td>\n",
       "      <td>Le ColmarAppart Vauban vous accueille à Colm...</td>\n",
       "    </tr>\n",
       "    <tr>\n",
       "      <th>8</th>\n",
       "      <td>Suites Residences Spa</td>\n",
       "      <td>https://www.booking.com/hotel/fr/suites-reside...</td>\n",
       "      <td>Situé à 200 mètres de la Maison des têtes, l...</td>\n",
       "    </tr>\n",
       "    <tr>\n",
       "      <th>9</th>\n",
       "      <td>cotoon colmar8</td>\n",
       "      <td>https://www.booking.com/hotel/fr/cotoon-colmar...</td>\n",
       "      <td>Le COLMARAPPART Grand'Rue bénéficie d'un emp...</td>\n",
       "    </tr>\n",
       "    <tr>\n",
       "      <th>10</th>\n",
       "      <td>kyriad colmar cita c administrative</td>\n",
       "      <td>https://www.booking.com/hotel/fr/kyriad-colmar...</td>\n",
       "      <td>Situé à 650 mètres du centre-ville de Colmar...</td>\n",
       "    </tr>\n",
       "    <tr>\n",
       "      <th>11</th>\n",
       "      <td>aux bijoux de colmar le saphir</td>\n",
       "      <td>https://www.booking.com/hotel/fr/aux-bijoux-de...</td>\n",
       "      <td>Situé à Colmar, à seulement 2,1 km de la Mai...</td>\n",
       "    </tr>\n",
       "    <tr>\n",
       "      <th>12</th>\n",
       "      <td>Hotel Saint-Martin</td>\n",
       "      <td>https://www.booking.com/hotel/fr/hotelsaintmar...</td>\n",
       "      <td>Situé au cœur de la vieille ville de Colmar,...</td>\n",
       "    </tr>\n",
       "    <tr>\n",
       "      <th>13</th>\n",
       "      <td>AU brochet</td>\n",
       "      <td>https://www.booking.com/hotel/fr/au-brochet.fr...</td>\n",
       "      <td>L'AU brochet est situé à Colmar, à 2 km de l...</td>\n",
       "    </tr>\n",
       "    <tr>\n",
       "      <th>14</th>\n",
       "      <td>la petite venise</td>\n",
       "      <td>https://www.booking.com/hotel/fr/la-petite-ven...</td>\n",
       "      <td>La résidence Pierre &amp;amp; Vacances La Petite V...</td>\n",
       "    </tr>\n",
       "    <tr>\n",
       "      <th>15</th>\n",
       "      <td>Greet Hotel Colmar</td>\n",
       "      <td>https://www.booking.com/hotel/fr/comfort-les-m...</td>\n",
       "      <td>Le Greet Hotel Colmar vous accueille à l’entré...</td>\n",
       "    </tr>\n",
       "    <tr>\n",
       "      <th>16</th>\n",
       "      <td>Hotel L'Europe</td>\n",
       "      <td>https://www.booking.com/hotel/fr/l-europe.fr.html</td>\n",
       "      <td>Situé dans le Grand Est, l’Hotel L’Europe es...</td>\n",
       "    </tr>\n",
       "    <tr>\n",
       "      <th>17</th>\n",
       "      <td>Mercure Colmar Centre Unterlinden</td>\n",
       "      <td>https://www.booking.com/hotel/fr/colmar-centre...</td>\n",
       "      <td>Installé à 2 minutes à pied du musée Unterlind...</td>\n",
       "    </tr>\n",
       "    <tr>\n",
       "      <th>18</th>\n",
       "      <td>arc en ciel hexagone</td>\n",
       "      <td>https://www.booking.com/hotel/fr/arc-en-ciel-h...</td>\n",
       "      <td>L'Hotel Arc-En-Ciel Colmar Contact Hotel vous ...</td>\n",
       "    </tr>\n",
       "    <tr>\n",
       "      <th>19</th>\n",
       "      <td>appart 39 odalys la rose d 39 argent</td>\n",
       "      <td>https://www.booking.com/hotel/fr/appart-39-oda...</td>\n",
       "      <td>Situé à Colmar, à seulement 1,6 km de la gare,...</td>\n",
       "    </tr>\n",
       "  </tbody>\n",
       "</table>\n",
       "</div>"
      ],
      "text/plain": [
       "                                           hotel_name  \\\n",
       "0                       les appartements saint martin   \n",
       "1   SERENITY Colmar - Gîtes de Prestige 4 et 5 éto...   \n",
       "2                     At home in the center of Colmar   \n",
       "3                       Le petit nid de Max et Sophie   \n",
       "4                                        Colmar Hotel   \n",
       "5                     PAUL & PIA - Welcome Home Hotel   \n",
       "6                                 comfort expo colmar   \n",
       "7                                 ColmarAppart Vauban   \n",
       "8                               Suites Residences Spa   \n",
       "9                                      cotoon colmar8   \n",
       "10                kyriad colmar cita c administrative   \n",
       "11                     aux bijoux de colmar le saphir   \n",
       "12                                 Hotel Saint-Martin   \n",
       "13                                         AU brochet   \n",
       "14                                   la petite venise   \n",
       "15                                 Greet Hotel Colmar   \n",
       "16                                     Hotel L'Europe   \n",
       "17                  Mercure Colmar Centre Unterlinden   \n",
       "18                               arc en ciel hexagone   \n",
       "19               appart 39 odalys la rose d 39 argent   \n",
       "\n",
       "                                           url_hostel  \\\n",
       "0   https://www.booking.com/hotel/fr/les-apparteme...   \n",
       "1   https://www.booking.com/hotel/fr/serenity-colm...   \n",
       "2   https://www.booking.com/hotel/fr/at-home-on-co...   \n",
       "3   https://www.booking.com/hotel/fr/le-petit-nid-...   \n",
       "4     https://www.booking.com/hotel/fr/colmar.fr.html   \n",
       "5   https://www.booking.com/hotel/fr/kyriad-colmar...   \n",
       "6   https://www.booking.com/hotel/fr/comfort-expo-...   \n",
       "7   https://www.booking.com/hotel/fr/colmarappart-...   \n",
       "8   https://www.booking.com/hotel/fr/suites-reside...   \n",
       "9   https://www.booking.com/hotel/fr/cotoon-colmar...   \n",
       "10  https://www.booking.com/hotel/fr/kyriad-colmar...   \n",
       "11  https://www.booking.com/hotel/fr/aux-bijoux-de...   \n",
       "12  https://www.booking.com/hotel/fr/hotelsaintmar...   \n",
       "13  https://www.booking.com/hotel/fr/au-brochet.fr...   \n",
       "14  https://www.booking.com/hotel/fr/la-petite-ven...   \n",
       "15  https://www.booking.com/hotel/fr/comfort-les-m...   \n",
       "16  https://www.booking.com/hotel/fr/l-europe.fr.html   \n",
       "17  https://www.booking.com/hotel/fr/colmar-centre...   \n",
       "18  https://www.booking.com/hotel/fr/arc-en-ciel-h...   \n",
       "19  https://www.booking.com/hotel/fr/appart-39-oda...   \n",
       "\n",
       "                                       hotel_describe  \n",
       "0     Bénéficiant d’un emplacement pratique dans l...  \n",
       "1     Situé à Colmar, à proximité de la collégiale...  \n",
       "2     Doté d'une connexion Wi-Fi gratuite, l'héber...  \n",
       "3     Situé à Colmar, à moins de 400 mètres de la ...  \n",
       "4     Le Colmar Hotel vous accueille à Colmar, à 1...  \n",
       "5     L’Hôtel Centre Gare est situé à 500 mètres d...  \n",
       "6   Installé à 4 km du centre-ville de Colmar et à...  \n",
       "7     Le ColmarAppart Vauban vous accueille à Colm...  \n",
       "8     Situé à 200 mètres de la Maison des têtes, l...  \n",
       "9     Le COLMARAPPART Grand'Rue bénéficie d'un emp...  \n",
       "10    Situé à 650 mètres du centre-ville de Colmar...  \n",
       "11    Situé à Colmar, à seulement 2,1 km de la Mai...  \n",
       "12    Situé au cœur de la vieille ville de Colmar,...  \n",
       "13    L'AU brochet est situé à Colmar, à 2 km de l...  \n",
       "14  La résidence Pierre &amp; Vacances La Petite V...  \n",
       "15  Le Greet Hotel Colmar vous accueille à l’entré...  \n",
       "16    Situé dans le Grand Est, l’Hotel L’Europe es...  \n",
       "17  Installé à 2 minutes à pied du musée Unterlind...  \n",
       "18  L'Hotel Arc-En-Ciel Colmar Contact Hotel vous ...  \n",
       "19  Situé à Colmar, à seulement 1,6 km de la gare,...  "
      ]
     },
     "metadata": {},
     "output_type": "display_data"
    },
    {
     "data": {
      "application/vnd.plotly.v1+json": {
       "config": {
        "plotlyServerURL": "https://plot.ly"
       },
       "data": [
        {
         "customdata": [
          [
           10
          ],
          [
           10
          ],
          [
           9.9
          ],
          [
           9.8
          ],
          [
           9.7
          ],
          [
           9.6
          ],
          [
           9.3
          ],
          [
           9
          ],
          [
           9
          ],
          [
           8.9
          ],
          [
           8.8
          ],
          [
           8.8
          ],
          [
           8.6
          ],
          [
           8.6
          ],
          [
           8.4
          ],
          [
           8.4
          ],
          [
           8.4
          ],
          [
           8.3
          ],
          [
           8.3
          ],
          [
           8.3
          ]
         ],
         "hovertemplate": "<b>%{hovertext}</b><br><br>Rating=%{marker.color}<br>Adress=%{text}<br>Lat=%{lat}<br>Lon=%{lon}<extra></extra>",
         "hovertext": [
          "le jungle spa",
          "tres belle rotonde deco boheme tennis parking",
          "le chant des oiseaux nimes3",
          "antichambre",
          "Guest House Encantada",
          "mas d 39 escattes",
          "margaret chouleur",
          "joli f2 proche gare arenes avec terrasse privee",
          "ostium porte de",
          "Jardins Secrets",
          "imperator nimes",
          "Dolce NÎMES CENTRE",
          "Appart'City Confort Nimes Arenes",
          "Vertigo Hotel Gare Centre Nîmes",
          "Hotel Majestic",
          "Hôtel Le Pré Galoffre",
          "Antonin - Premiere conciergerie",
          "de l amphitheatre nimes",
          "Résidence Du Golf",
          "Appartement au calme en plein centre-ville"
         ],
         "lat": [
          43.8393143,
          43.7659168,
          43.8585395,
          43.8348253,
          43.8532862,
          43.8706405,
          43.8368905,
          43.8291453,
          43.7898475,
          43.834486,
          43.8380867,
          43.8405242,
          43.8340814,
          43.8351742,
          43.8344649,
          43.8139769,
          43.835401,
          43.8356175,
          43.8497091,
          43.8349088
         ],
         "legendgroup": "",
         "lon": [
          4.3703792,
          4.3466217,
          4.3715541,
          4.3583752,
          4.3517661,
          4.4049975,
          4.3581329,
          4.37518,
          4.3096906,
          4.3668382,
          4.3543862,
          4.3630033,
          4.3624551,
          4.3646607,
          4.3651972,
          4.3538294,
          4.3585366,
          4.3592958,
          4.3150562,
          4.3563534
         ],
         "marker": {
          "color": [
           10,
           10,
           9.9,
           9.8,
           9.7,
           9.6,
           9.3,
           9,
           9,
           8.9,
           8.8,
           8.8,
           8.6,
           8.6,
           8.4,
           8.4,
           8.4,
           8.3,
           8.3,
           8.3
          ],
          "coloraxis": "coloraxis",
          "size": [
           10,
           10,
           9.9,
           9.8,
           9.7,
           9.6,
           9.3,
           9,
           9,
           8.9,
           8.8,
           8.8,
           8.6,
           8.6,
           8.4,
           8.4,
           8.4,
           8.3,
           8.3,
           8.3
          ],
          "sizemode": "area",
          "sizeref": 0.044444444444444446
         },
         "mode": "markers+text",
         "name": "",
         "showlegend": false,
         "subplot": "mapbox",
         "text": [
          "2 Rue Villars, 30000 Nîmes, France",
          "Chemin de Bois Fontaine, 30900 Nîmes, France",
          "539B Chemin de la Guinguette Laugier, 30000 Nîmes, France",
          "11 rue bigot, 30900 Nîmes, France",
          "53 Impasse De L’Escaut, 30000 Nîmes, France",
          "34 Allée du Mas d'Escattes, 30000 Nîmes, France",
          "6 Rue Fresque, 30000 Nîmes, France",
          "37 Rue de Toulouse, 30000 Nîmes, France",
          "54 Rue Porte de France, 30900 Nîmes, France",
          "3 Rue Gaston Maruejols, 30000 Nîmes, France",
          "15 Rue Gaston Boissier, 30900 Nîmes, France",
          "24 RUE DE L ENCLOS REY, 30000 Nîmes, France",
          "1 Boulevard De Bruxelles, 30000 Nîmes, France",
          "31 Rue de la Servie, 30000 Nîmes, France",
          "9 Rue de la Servie, 30000 Nîmes, France",
          "3115 Route De Générac, 30900 Nîmes, France",
          "4 Rue Saint-Antoine, 30000 Nîmes, France",
          "4 Rue Des Arènes, 30000 Nîmes, France",
          "1075 Chemin Du Golf, 30900 Nîmes, France",
          "10 Rue de la Pitié, 30900 Nîmes, France"
         ],
         "type": "scattermapbox"
        }
       ],
       "layout": {
        "annotations": [
         {
          "align": "left",
          "showarrow": false,
          "text": "<br>The cloud coverage is 0%, it's raining 0 mm/h and the wind blowing at 5 km/h",
          "x": 0,
          "y": -0.1,
          "yref": "paper"
         }
        ],
        "coloraxis": {
         "cmax": 10,
         "cmin": 0,
         "colorbar": {
          "title": {
           "text": "Rating"
          }
         },
         "colorscale": [
          [
           0,
           "rgb(243, 231, 155)"
          ],
          [
           0.16666666666666666,
           "rgb(250, 196, 132)"
          ],
          [
           0.3333333333333333,
           "rgb(248, 160, 126)"
          ],
          [
           0.5,
           "rgb(235, 127, 134)"
          ],
          [
           0.6666666666666666,
           "rgb(206, 102, 147)"
          ],
          [
           0.8333333333333334,
           "rgb(160, 89, 160)"
          ],
          [
           1,
           "rgb(92, 83, 165)"
          ]
         ]
        },
        "height": 600,
        "legend": {
         "itemsizing": "constant",
         "tracegroupgap": 0
        },
        "mapbox": {
         "center": {
          "lat": 43.837424899999995,
          "lon": 4.3600687
         },
         "domain": {
          "x": [
           0,
           1
          ],
          "y": [
           0,
           1
          ]
         },
         "style": "carto-positron",
         "zoom": 12
        },
        "template": {
         "data": {
          "bar": [
           {
            "error_x": {
             "color": "#2a3f5f"
            },
            "error_y": {
             "color": "#2a3f5f"
            },
            "marker": {
             "line": {
              "color": "#E5ECF6",
              "width": 0.5
             },
             "pattern": {
              "fillmode": "overlay",
              "size": 10,
              "solidity": 0.2
             }
            },
            "type": "bar"
           }
          ],
          "barpolar": [
           {
            "marker": {
             "line": {
              "color": "#E5ECF6",
              "width": 0.5
             },
             "pattern": {
              "fillmode": "overlay",
              "size": 10,
              "solidity": 0.2
             }
            },
            "type": "barpolar"
           }
          ],
          "carpet": [
           {
            "aaxis": {
             "endlinecolor": "#2a3f5f",
             "gridcolor": "white",
             "linecolor": "white",
             "minorgridcolor": "white",
             "startlinecolor": "#2a3f5f"
            },
            "baxis": {
             "endlinecolor": "#2a3f5f",
             "gridcolor": "white",
             "linecolor": "white",
             "minorgridcolor": "white",
             "startlinecolor": "#2a3f5f"
            },
            "type": "carpet"
           }
          ],
          "choropleth": [
           {
            "colorbar": {
             "outlinewidth": 0,
             "ticks": ""
            },
            "type": "choropleth"
           }
          ],
          "contour": [
           {
            "colorbar": {
             "outlinewidth": 0,
             "ticks": ""
            },
            "colorscale": [
             [
              0,
              "#0d0887"
             ],
             [
              0.1111111111111111,
              "#46039f"
             ],
             [
              0.2222222222222222,
              "#7201a8"
             ],
             [
              0.3333333333333333,
              "#9c179e"
             ],
             [
              0.4444444444444444,
              "#bd3786"
             ],
             [
              0.5555555555555556,
              "#d8576b"
             ],
             [
              0.6666666666666666,
              "#ed7953"
             ],
             [
              0.7777777777777778,
              "#fb9f3a"
             ],
             [
              0.8888888888888888,
              "#fdca26"
             ],
             [
              1,
              "#f0f921"
             ]
            ],
            "type": "contour"
           }
          ],
          "contourcarpet": [
           {
            "colorbar": {
             "outlinewidth": 0,
             "ticks": ""
            },
            "type": "contourcarpet"
           }
          ],
          "heatmap": [
           {
            "colorbar": {
             "outlinewidth": 0,
             "ticks": ""
            },
            "colorscale": [
             [
              0,
              "#0d0887"
             ],
             [
              0.1111111111111111,
              "#46039f"
             ],
             [
              0.2222222222222222,
              "#7201a8"
             ],
             [
              0.3333333333333333,
              "#9c179e"
             ],
             [
              0.4444444444444444,
              "#bd3786"
             ],
             [
              0.5555555555555556,
              "#d8576b"
             ],
             [
              0.6666666666666666,
              "#ed7953"
             ],
             [
              0.7777777777777778,
              "#fb9f3a"
             ],
             [
              0.8888888888888888,
              "#fdca26"
             ],
             [
              1,
              "#f0f921"
             ]
            ],
            "type": "heatmap"
           }
          ],
          "heatmapgl": [
           {
            "colorbar": {
             "outlinewidth": 0,
             "ticks": ""
            },
            "colorscale": [
             [
              0,
              "#0d0887"
             ],
             [
              0.1111111111111111,
              "#46039f"
             ],
             [
              0.2222222222222222,
              "#7201a8"
             ],
             [
              0.3333333333333333,
              "#9c179e"
             ],
             [
              0.4444444444444444,
              "#bd3786"
             ],
             [
              0.5555555555555556,
              "#d8576b"
             ],
             [
              0.6666666666666666,
              "#ed7953"
             ],
             [
              0.7777777777777778,
              "#fb9f3a"
             ],
             [
              0.8888888888888888,
              "#fdca26"
             ],
             [
              1,
              "#f0f921"
             ]
            ],
            "type": "heatmapgl"
           }
          ],
          "histogram": [
           {
            "marker": {
             "pattern": {
              "fillmode": "overlay",
              "size": 10,
              "solidity": 0.2
             }
            },
            "type": "histogram"
           }
          ],
          "histogram2d": [
           {
            "colorbar": {
             "outlinewidth": 0,
             "ticks": ""
            },
            "colorscale": [
             [
              0,
              "#0d0887"
             ],
             [
              0.1111111111111111,
              "#46039f"
             ],
             [
              0.2222222222222222,
              "#7201a8"
             ],
             [
              0.3333333333333333,
              "#9c179e"
             ],
             [
              0.4444444444444444,
              "#bd3786"
             ],
             [
              0.5555555555555556,
              "#d8576b"
             ],
             [
              0.6666666666666666,
              "#ed7953"
             ],
             [
              0.7777777777777778,
              "#fb9f3a"
             ],
             [
              0.8888888888888888,
              "#fdca26"
             ],
             [
              1,
              "#f0f921"
             ]
            ],
            "type": "histogram2d"
           }
          ],
          "histogram2dcontour": [
           {
            "colorbar": {
             "outlinewidth": 0,
             "ticks": ""
            },
            "colorscale": [
             [
              0,
              "#0d0887"
             ],
             [
              0.1111111111111111,
              "#46039f"
             ],
             [
              0.2222222222222222,
              "#7201a8"
             ],
             [
              0.3333333333333333,
              "#9c179e"
             ],
             [
              0.4444444444444444,
              "#bd3786"
             ],
             [
              0.5555555555555556,
              "#d8576b"
             ],
             [
              0.6666666666666666,
              "#ed7953"
             ],
             [
              0.7777777777777778,
              "#fb9f3a"
             ],
             [
              0.8888888888888888,
              "#fdca26"
             ],
             [
              1,
              "#f0f921"
             ]
            ],
            "type": "histogram2dcontour"
           }
          ],
          "mesh3d": [
           {
            "colorbar": {
             "outlinewidth": 0,
             "ticks": ""
            },
            "type": "mesh3d"
           }
          ],
          "parcoords": [
           {
            "line": {
             "colorbar": {
              "outlinewidth": 0,
              "ticks": ""
             }
            },
            "type": "parcoords"
           }
          ],
          "pie": [
           {
            "automargin": true,
            "type": "pie"
           }
          ],
          "scatter": [
           {
            "fillpattern": {
             "fillmode": "overlay",
             "size": 10,
             "solidity": 0.2
            },
            "type": "scatter"
           }
          ],
          "scatter3d": [
           {
            "line": {
             "colorbar": {
              "outlinewidth": 0,
              "ticks": ""
             }
            },
            "marker": {
             "colorbar": {
              "outlinewidth": 0,
              "ticks": ""
             }
            },
            "type": "scatter3d"
           }
          ],
          "scattercarpet": [
           {
            "marker": {
             "colorbar": {
              "outlinewidth": 0,
              "ticks": ""
             }
            },
            "type": "scattercarpet"
           }
          ],
          "scattergeo": [
           {
            "marker": {
             "colorbar": {
              "outlinewidth": 0,
              "ticks": ""
             }
            },
            "type": "scattergeo"
           }
          ],
          "scattergl": [
           {
            "marker": {
             "colorbar": {
              "outlinewidth": 0,
              "ticks": ""
             }
            },
            "type": "scattergl"
           }
          ],
          "scattermapbox": [
           {
            "marker": {
             "colorbar": {
              "outlinewidth": 0,
              "ticks": ""
             }
            },
            "type": "scattermapbox"
           }
          ],
          "scatterpolar": [
           {
            "marker": {
             "colorbar": {
              "outlinewidth": 0,
              "ticks": ""
             }
            },
            "type": "scatterpolar"
           }
          ],
          "scatterpolargl": [
           {
            "marker": {
             "colorbar": {
              "outlinewidth": 0,
              "ticks": ""
             }
            },
            "type": "scatterpolargl"
           }
          ],
          "scatterternary": [
           {
            "marker": {
             "colorbar": {
              "outlinewidth": 0,
              "ticks": ""
             }
            },
            "type": "scatterternary"
           }
          ],
          "surface": [
           {
            "colorbar": {
             "outlinewidth": 0,
             "ticks": ""
            },
            "colorscale": [
             [
              0,
              "#0d0887"
             ],
             [
              0.1111111111111111,
              "#46039f"
             ],
             [
              0.2222222222222222,
              "#7201a8"
             ],
             [
              0.3333333333333333,
              "#9c179e"
             ],
             [
              0.4444444444444444,
              "#bd3786"
             ],
             [
              0.5555555555555556,
              "#d8576b"
             ],
             [
              0.6666666666666666,
              "#ed7953"
             ],
             [
              0.7777777777777778,
              "#fb9f3a"
             ],
             [
              0.8888888888888888,
              "#fdca26"
             ],
             [
              1,
              "#f0f921"
             ]
            ],
            "type": "surface"
           }
          ],
          "table": [
           {
            "cells": {
             "fill": {
              "color": "#EBF0F8"
             },
             "line": {
              "color": "white"
             }
            },
            "header": {
             "fill": {
              "color": "#C8D4E3"
             },
             "line": {
              "color": "white"
             }
            },
            "type": "table"
           }
          ]
         },
         "layout": {
          "annotationdefaults": {
           "arrowcolor": "#2a3f5f",
           "arrowhead": 0,
           "arrowwidth": 1
          },
          "autotypenumbers": "strict",
          "coloraxis": {
           "colorbar": {
            "outlinewidth": 0,
            "ticks": ""
           }
          },
          "colorscale": {
           "diverging": [
            [
             0,
             "#8e0152"
            ],
            [
             0.1,
             "#c51b7d"
            ],
            [
             0.2,
             "#de77ae"
            ],
            [
             0.3,
             "#f1b6da"
            ],
            [
             0.4,
             "#fde0ef"
            ],
            [
             0.5,
             "#f7f7f7"
            ],
            [
             0.6,
             "#e6f5d0"
            ],
            [
             0.7,
             "#b8e186"
            ],
            [
             0.8,
             "#7fbc41"
            ],
            [
             0.9,
             "#4d9221"
            ],
            [
             1,
             "#276419"
            ]
           ],
           "sequential": [
            [
             0,
             "#0d0887"
            ],
            [
             0.1111111111111111,
             "#46039f"
            ],
            [
             0.2222222222222222,
             "#7201a8"
            ],
            [
             0.3333333333333333,
             "#9c179e"
            ],
            [
             0.4444444444444444,
             "#bd3786"
            ],
            [
             0.5555555555555556,
             "#d8576b"
            ],
            [
             0.6666666666666666,
             "#ed7953"
            ],
            [
             0.7777777777777778,
             "#fb9f3a"
            ],
            [
             0.8888888888888888,
             "#fdca26"
            ],
            [
             1,
             "#f0f921"
            ]
           ],
           "sequentialminus": [
            [
             0,
             "#0d0887"
            ],
            [
             0.1111111111111111,
             "#46039f"
            ],
            [
             0.2222222222222222,
             "#7201a8"
            ],
            [
             0.3333333333333333,
             "#9c179e"
            ],
            [
             0.4444444444444444,
             "#bd3786"
            ],
            [
             0.5555555555555556,
             "#d8576b"
            ],
            [
             0.6666666666666666,
             "#ed7953"
            ],
            [
             0.7777777777777778,
             "#fb9f3a"
            ],
            [
             0.8888888888888888,
             "#fdca26"
            ],
            [
             1,
             "#f0f921"
            ]
           ]
          },
          "colorway": [
           "#636efa",
           "#EF553B",
           "#00cc96",
           "#ab63fa",
           "#FFA15A",
           "#19d3f3",
           "#FF6692",
           "#B6E880",
           "#FF97FF",
           "#FECB52"
          ],
          "font": {
           "color": "#2a3f5f"
          },
          "geo": {
           "bgcolor": "white",
           "lakecolor": "white",
           "landcolor": "#E5ECF6",
           "showlakes": true,
           "showland": true,
           "subunitcolor": "white"
          },
          "hoverlabel": {
           "align": "left"
          },
          "hovermode": "closest",
          "mapbox": {
           "style": "light"
          },
          "paper_bgcolor": "white",
          "plot_bgcolor": "#E5ECF6",
          "polar": {
           "angularaxis": {
            "gridcolor": "white",
            "linecolor": "white",
            "ticks": ""
           },
           "bgcolor": "#E5ECF6",
           "radialaxis": {
            "gridcolor": "white",
            "linecolor": "white",
            "ticks": ""
           }
          },
          "scene": {
           "xaxis": {
            "backgroundcolor": "#E5ECF6",
            "gridcolor": "white",
            "gridwidth": 2,
            "linecolor": "white",
            "showbackground": true,
            "ticks": "",
            "zerolinecolor": "white"
           },
           "yaxis": {
            "backgroundcolor": "#E5ECF6",
            "gridcolor": "white",
            "gridwidth": 2,
            "linecolor": "white",
            "showbackground": true,
            "ticks": "",
            "zerolinecolor": "white"
           },
           "zaxis": {
            "backgroundcolor": "#E5ECF6",
            "gridcolor": "white",
            "gridwidth": 2,
            "linecolor": "white",
            "showbackground": true,
            "ticks": "",
            "zerolinecolor": "white"
           }
          },
          "shapedefaults": {
           "line": {
            "color": "#2a3f5f"
           }
          },
          "ternary": {
           "aaxis": {
            "gridcolor": "white",
            "linecolor": "white",
            "ticks": ""
           },
           "baxis": {
            "gridcolor": "white",
            "linecolor": "white",
            "ticks": ""
           },
           "bgcolor": "#E5ECF6",
           "caxis": {
            "gridcolor": "white",
            "linecolor": "white",
            "ticks": ""
           }
          },
          "title": {
           "x": 0.05
          },
          "xaxis": {
           "automargin": true,
           "gridcolor": "white",
           "linecolor": "white",
           "ticks": "",
           "title": {
            "standoff": 15
           },
           "zerolinecolor": "white",
           "zerolinewidth": 2
          },
          "yaxis": {
           "automargin": true,
           "gridcolor": "white",
           "linecolor": "white",
           "ticks": "",
           "title": {
            "standoff": 15
           },
           "zerolinecolor": "white",
           "zerolinewidth": 2
          }
         }
        },
        "title": {
         "text": "Nimes : Clear sky, 25°C"
        },
        "width": 800
       }
      }
     },
     "metadata": {},
     "output_type": "display_data"
    },
    {
     "data": {
      "text/html": [
       "<div>\n",
       "<style scoped>\n",
       "    .dataframe tbody tr th:only-of-type {\n",
       "        vertical-align: middle;\n",
       "    }\n",
       "\n",
       "    .dataframe tbody tr th {\n",
       "        vertical-align: top;\n",
       "    }\n",
       "\n",
       "    .dataframe thead th {\n",
       "        text-align: right;\n",
       "    }\n",
       "</style>\n",
       "<table border=\"1\" class=\"dataframe\">\n",
       "  <thead>\n",
       "    <tr style=\"text-align: right;\">\n",
       "      <th></th>\n",
       "      <th>hotel_name</th>\n",
       "      <th>url_hostel</th>\n",
       "      <th>hotel_describe</th>\n",
       "    </tr>\n",
       "  </thead>\n",
       "  <tbody>\n",
       "    <tr>\n",
       "      <th>0</th>\n",
       "      <td>le jungle spa</td>\n",
       "      <td>https://www.booking.com/hotel/fr/le-jungle-spa...</td>\n",
       "      <td>Featuring a spa bath, Le Jungle SPA **** is lo...</td>\n",
       "    </tr>\n",
       "    <tr>\n",
       "      <th>1</th>\n",
       "      <td>tres belle rotonde deco boheme tennis parking</td>\n",
       "      <td>https://www.booking.com/hotel/fr/tres-belle-ro...</td>\n",
       "      <td>Offrant une vue sur le jardin, le Très Belle r...</td>\n",
       "    </tr>\n",
       "    <tr>\n",
       "      <th>2</th>\n",
       "      <td>le chant des oiseaux nimes3</td>\n",
       "      <td>https://www.booking.com/hotel/fr/le-chant-des-...</td>\n",
       "      <td>Situé à Nîmes, à moins de 5 km du parc des exp...</td>\n",
       "    </tr>\n",
       "    <tr>\n",
       "      <th>3</th>\n",
       "      <td>antichambre</td>\n",
       "      <td>https://www.booking.com/hotel/fr/antichambre.f...</td>\n",
       "      <td>L'Antichambre se situe à Nîmes, à 1,9 km du pa...</td>\n",
       "    </tr>\n",
       "    <tr>\n",
       "      <th>4</th>\n",
       "      <td>Guest House Encantada</td>\n",
       "      <td>https://www.booking.com/hotel/fr/encantadahome...</td>\n",
       "      <td>Offrant une vue sur sa piscine extérieure, l...</td>\n",
       "    </tr>\n",
       "    <tr>\n",
       "      <th>5</th>\n",
       "      <td>mas d 39 escattes</td>\n",
       "      <td>https://www.booking.com/hotel/fr/mas-d-39-esca...</td>\n",
       "      <td>Situé à 8 km du parc des expositions Parc Expo...</td>\n",
       "    </tr>\n",
       "    <tr>\n",
       "      <th>6</th>\n",
       "      <td>margaret chouleur</td>\n",
       "      <td>https://www.booking.com/hotel/fr/margaret-chou...</td>\n",
       "      <td>Situé à Nîmes, le Margaret - Hôtel Chouleur pr...</td>\n",
       "    </tr>\n",
       "    <tr>\n",
       "      <th>7</th>\n",
       "      <td>joli f2 proche gare arenes avec terrasse privee</td>\n",
       "      <td>https://www.booking.com/hotel/fr/joli-f2-proch...</td>\n",
       "      <td>Situé à Nîmes, à 1,4 km du parc des expositi...</td>\n",
       "    </tr>\n",
       "    <tr>\n",
       "      <th>8</th>\n",
       "      <td>ostium porte de</td>\n",
       "      <td>https://www.booking.com/hotel/fr/ostium-porte-...</td>\n",
       "      <td>Doté d'une connexion Wi-Fi gratuite et offrant...</td>\n",
       "    </tr>\n",
       "    <tr>\n",
       "      <th>9</th>\n",
       "      <td>Jardins Secrets</td>\n",
       "      <td>https://www.booking.com/hotel/fr/jardins-secre...</td>\n",
       "      <td>Situé à Nîmes, l'hôtel Jardins Secrets occupe ...</td>\n",
       "    </tr>\n",
       "    <tr>\n",
       "      <th>10</th>\n",
       "      <td>imperator nimes</td>\n",
       "      <td>https://www.booking.com/hotel/fr/imperator-nim...</td>\n",
       "      <td>La Maison Albar Hotels L’Imperator est un hôte...</td>\n",
       "    </tr>\n",
       "    <tr>\n",
       "      <th>11</th>\n",
       "      <td>Dolce NÎMES CENTRE</td>\n",
       "      <td>https://www.booking.com/hotel/fr/enclos-rey.fr...</td>\n",
       "      <td>Situé à Nîmes, à moins de 3,6 km du parc des...</td>\n",
       "    </tr>\n",
       "    <tr>\n",
       "      <th>12</th>\n",
       "      <td>Appart'City Confort Nimes Arenes</td>\n",
       "      <td>https://www.booking.com/hotel/fr/appart-39-cit...</td>\n",
       "      <td>L'Appart'City Confort Nîmes Arenes est situé d...</td>\n",
       "    </tr>\n",
       "    <tr>\n",
       "      <th>13</th>\n",
       "      <td>Vertigo Hotel Gare Centre Nîmes</td>\n",
       "      <td>https://www.booking.com/hotel/fr/vertigo-nimes...</td>\n",
       "      <td>Doté d'un bar, d'un jardin et offrant une vue ...</td>\n",
       "    </tr>\n",
       "    <tr>\n",
       "      <th>14</th>\n",
       "      <td>Hotel Majestic</td>\n",
       "      <td>https://www.booking.com/hotel/fr/majestic-nime...</td>\n",
       "      <td>Rénové en 2019, l'Hotel Majestic est situé à N...</td>\n",
       "    </tr>\n",
       "    <tr>\n",
       "      <th>15</th>\n",
       "      <td>Hôtel Le Pré Galoffre</td>\n",
       "      <td>https://www.booking.com/hotel/fr/lepregaloffre...</td>\n",
       "      <td>L'Hôtel Le Pré Galoffre vous accueille dans un...</td>\n",
       "    </tr>\n",
       "    <tr>\n",
       "      <th>16</th>\n",
       "      <td>Antonin - Premiere conciergerie</td>\n",
       "      <td>https://www.booking.com/hotel/fr/antonin-premi...</td>\n",
       "      <td>Situé en plein centre de Nîmes, à proximité ...</td>\n",
       "    </tr>\n",
       "    <tr>\n",
       "      <th>17</th>\n",
       "      <td>de l amphitheatre nimes</td>\n",
       "      <td>https://www.booking.com/hotel/fr/de-l-amphithe...</td>\n",
       "      <td>Situé dans la zone piétonne du centre histor...</td>\n",
       "    </tr>\n",
       "    <tr>\n",
       "      <th>18</th>\n",
       "      <td>Résidence Du Golf</td>\n",
       "      <td>https://www.booking.com/hotel/fr/residence-du-...</td>\n",
       "      <td>Située sur le parcours de golf de Nîmes Vacque...</td>\n",
       "    </tr>\n",
       "    <tr>\n",
       "      <th>19</th>\n",
       "      <td>Appartement au calme en plein centre-ville</td>\n",
       "      <td>https://www.booking.com/hotel/fr/appartement-a...</td>\n",
       "      <td>Situé à Nîmes, à 2 km du parc des exposition...</td>\n",
       "    </tr>\n",
       "  </tbody>\n",
       "</table>\n",
       "</div>"
      ],
      "text/plain": [
       "                                         hotel_name  \\\n",
       "0                                     le jungle spa   \n",
       "1     tres belle rotonde deco boheme tennis parking   \n",
       "2                       le chant des oiseaux nimes3   \n",
       "3                                       antichambre   \n",
       "4                             Guest House Encantada   \n",
       "5                                 mas d 39 escattes   \n",
       "6                                 margaret chouleur   \n",
       "7   joli f2 proche gare arenes avec terrasse privee   \n",
       "8                                   ostium porte de   \n",
       "9                                   Jardins Secrets   \n",
       "10                                  imperator nimes   \n",
       "11                               Dolce NÎMES CENTRE   \n",
       "12                 Appart'City Confort Nimes Arenes   \n",
       "13                  Vertigo Hotel Gare Centre Nîmes   \n",
       "14                                   Hotel Majestic   \n",
       "15                            Hôtel Le Pré Galoffre   \n",
       "16                  Antonin - Premiere conciergerie   \n",
       "17                          de l amphitheatre nimes   \n",
       "18                                Résidence Du Golf   \n",
       "19       Appartement au calme en plein centre-ville   \n",
       "\n",
       "                                           url_hostel  \\\n",
       "0   https://www.booking.com/hotel/fr/le-jungle-spa...   \n",
       "1   https://www.booking.com/hotel/fr/tres-belle-ro...   \n",
       "2   https://www.booking.com/hotel/fr/le-chant-des-...   \n",
       "3   https://www.booking.com/hotel/fr/antichambre.f...   \n",
       "4   https://www.booking.com/hotel/fr/encantadahome...   \n",
       "5   https://www.booking.com/hotel/fr/mas-d-39-esca...   \n",
       "6   https://www.booking.com/hotel/fr/margaret-chou...   \n",
       "7   https://www.booking.com/hotel/fr/joli-f2-proch...   \n",
       "8   https://www.booking.com/hotel/fr/ostium-porte-...   \n",
       "9   https://www.booking.com/hotel/fr/jardins-secre...   \n",
       "10  https://www.booking.com/hotel/fr/imperator-nim...   \n",
       "11  https://www.booking.com/hotel/fr/enclos-rey.fr...   \n",
       "12  https://www.booking.com/hotel/fr/appart-39-cit...   \n",
       "13  https://www.booking.com/hotel/fr/vertigo-nimes...   \n",
       "14  https://www.booking.com/hotel/fr/majestic-nime...   \n",
       "15  https://www.booking.com/hotel/fr/lepregaloffre...   \n",
       "16  https://www.booking.com/hotel/fr/antonin-premi...   \n",
       "17  https://www.booking.com/hotel/fr/de-l-amphithe...   \n",
       "18  https://www.booking.com/hotel/fr/residence-du-...   \n",
       "19  https://www.booking.com/hotel/fr/appartement-a...   \n",
       "\n",
       "                                       hotel_describe  \n",
       "0   Featuring a spa bath, Le Jungle SPA **** is lo...  \n",
       "1   Offrant une vue sur le jardin, le Très Belle r...  \n",
       "2   Situé à Nîmes, à moins de 5 km du parc des exp...  \n",
       "3   L'Antichambre se situe à Nîmes, à 1,9 km du pa...  \n",
       "4     Offrant une vue sur sa piscine extérieure, l...  \n",
       "5   Situé à 8 km du parc des expositions Parc Expo...  \n",
       "6   Situé à Nîmes, le Margaret - Hôtel Chouleur pr...  \n",
       "7     Situé à Nîmes, à 1,4 km du parc des expositi...  \n",
       "8   Doté d'une connexion Wi-Fi gratuite et offrant...  \n",
       "9   Situé à Nîmes, l'hôtel Jardins Secrets occupe ...  \n",
       "10  La Maison Albar Hotels L’Imperator est un hôte...  \n",
       "11    Situé à Nîmes, à moins de 3,6 km du parc des...  \n",
       "12  L'Appart'City Confort Nîmes Arenes est situé d...  \n",
       "13  Doté d'un bar, d'un jardin et offrant une vue ...  \n",
       "14  Rénové en 2019, l'Hotel Majestic est situé à N...  \n",
       "15  L'Hôtel Le Pré Galoffre vous accueille dans un...  \n",
       "16    Situé en plein centre de Nîmes, à proximité ...  \n",
       "17    Situé dans la zone piétonne du centre histor...  \n",
       "18  Située sur le parcours de golf de Nîmes Vacque...  \n",
       "19    Situé à Nîmes, à 2 km du parc des exposition...  "
      ]
     },
     "metadata": {},
     "output_type": "display_data"
    },
    {
     "data": {
      "application/vnd.plotly.v1+json": {
       "config": {
        "plotlyServerURL": "https://plot.ly"
       },
       "data": [
        {
         "customdata": [
          [
           9.9
          ],
          [
           9.5
          ],
          [
           9.5
          ],
          [
           9.2
          ],
          [
           9.2
          ],
          [
           9.2
          ],
          [
           9.1
          ],
          [
           9.1
          ],
          [
           8.7
          ],
          [
           8.7
          ],
          [
           8.6
          ],
          [
           8.6
          ],
          [
           8.6
          ],
          [
           8.5
          ],
          [
           8.4
          ],
          [
           8.3
          ],
          [
           8.2
          ],
          [
           8.2
          ],
          [
           8.2
          ],
          [
           8
          ]
         ],
         "hovertemplate": "<b>%{hovertext}</b><br><br>Rating=%{marker.color}<br>Adress=%{text}<br>Lat=%{lat}<br>Lon=%{lon}<extra></extra>",
         "hovertext": [
          "golden square strasbourg",
          "L'Appart du Quai avec Terrasse",
          "carpe diem home",
          "Les appartements Place de la Cathédrale",
          "Naeva Feng Shui",
          "Hôtel LÉONOR the place to live",
          "embassy corner",
          "Hôtel Tandem - Boutique Hôtel",
          "HANNONG Hotel & Wine Bar",
          "k strasbourg",
          "citadines eurometropole strasbourg",
          "le",
          "ClapClap Hôtel",
          "golden tulip strasbourg centre the garden",
          "The People - Strasbourg",
          "citadines aparthotel strasbourg",
          "Comfort Hotel Strasbourg - Montagne Verte & Restaurant Louisiane",
          "ibis budget Strasbourg Centre Republique",
          "Le Grand Hotel",
          "Holiday Inn Express Strasbourg Centre, an IHG Hotel"
         ],
         "lat": [
          48.5827469,
          48.5865998,
          48.5821827,
          48.58155505,
          48.5831783,
          48.5864728,
          48.5891333,
          48.584715,
          48.5828444,
          48.5936167,
          48.6046336,
          48.5795744,
          48.5827168,
          48.5905345,
          48.5812344,
          48.4698191,
          48.5725938,
          48.5914459,
          48.5846875,
          48.5720359
         ],
         "legendgroup": "",
         "lon": [
          7.7495675,
          7.7470735,
          7.7491851,
          7.75015559413014,
          7.7372954,
          7.7468941,
          7.7726406,
          7.735235999169237,
          7.7431081,
          7.7138527,
          7.7054406,
          7.7468736,
          7.7380951,
          7.7405343,
          7.75722,
          7.7263217,
          7.7286751,
          7.7540664,
          7.7365797,
          7.7371344
         ],
         "marker": {
          "color": [
           9.9,
           9.5,
           9.5,
           9.2,
           9.2,
           9.2,
           9.1,
           9.1,
           8.7,
           8.7,
           8.6,
           8.6,
           8.6,
           8.5,
           8.4,
           8.3,
           8.2,
           8.2,
           8.2,
           8
          ],
          "coloraxis": "coloraxis",
          "size": [
           9.9,
           9.5,
           9.5,
           9.2,
           9.2,
           9.2,
           9.1,
           9.1,
           8.7,
           8.7,
           8.6,
           8.6,
           8.6,
           8.5,
           8.4,
           8.3,
           8.2,
           8.2,
           8.2,
           8
          ],
          "sizemode": "area",
          "sizeref": 0.044000000000000004
         },
         "mode": "markers+text",
         "name": "",
         "showlegend": false,
         "subplot": "mapbox",
         "text": [
          "8 Rue du Sanglier, 67000 Strasbourg, France",
          "2B quai Schoepflin, 67000 Strasbourg, France",
          "28, rue des Orfèvres, 67000 Strasbourg, France",
          "18 Place De La Cathedrale, 67000 Strasbourg, France",
          "53 Rue de la Course, 67000 Strasbourg, France",
          "11 Rue de la Nuée-Bleue, 67000 Strasbourg, France",
          "9 Rue Trubner, 67000 Strasbourg, France",
          "2 place de la Gare, 67000 Strasbourg, France",
          "15, rue du 22 Novembre, 67000 Strasbourg, France",
          "3 allée Cérès , 67200 Strasbourg, France",
          "11 Allée de l’Euro, 67205 Strasbourg, France",
          "32 Rue de l'Ail, 67000 Strasbourg, France",
          "24 rue du Faubourg National, 67000 Strasbourg, France",
          "9 Rue des Magasins, 67000 Strasbourg, France",
          "7 Rue de la Krutenau, 67000 Strasbourg, France",
          "50-54 Rue Du Jeu Des Enfants, 67000 Strasbourg, France",
          "14, rue des Corroyeurs, 67200 Strasbourg, France",
          "23A Rue Oberlin, 67000 Strasbourg, France",
          "12, Place de la Gare, 67000 Strasbourg, France",
          "Rue de la Corderie, 67000 Strasbourg, France"
         ],
         "type": "scattermapbox"
        }
       ],
       "layout": {
        "annotations": [
         {
          "align": "left",
          "showarrow": false,
          "text": "<br>The cloud coverage is 0%, it's raining 0 mm/h and the wind blowing at 8 km/h",
          "x": 0,
          "y": -0.1,
          "yref": "paper"
         }
        ],
        "coloraxis": {
         "cmax": 10,
         "cmin": 0,
         "colorbar": {
          "title": {
           "text": "Rating"
          }
         },
         "colorscale": [
          [
           0,
           "rgb(243, 231, 155)"
          ],
          [
           0.16666666666666666,
           "rgb(250, 196, 132)"
          ],
          [
           0.3333333333333333,
           "rgb(248, 160, 126)"
          ],
          [
           0.5,
           "rgb(235, 127, 134)"
          ],
          [
           0.6666666666666666,
           "rgb(206, 102, 147)"
          ],
          [
           0.8333333333333334,
           "rgb(160, 89, 160)"
          ],
          [
           1,
           "rgb(92, 83, 165)"
          ]
         ]
        },
        "height": 600,
        "legend": {
         "itemsizing": "constant",
         "tracegroupgap": 0
        },
        "mapbox": {
         "center": {
          "lat": 48.584614,
          "lon": 7.750712700000001
         },
         "domain": {
          "x": [
           0,
           1
          ],
          "y": [
           0,
           1
          ]
         },
         "style": "carto-positron",
         "zoom": 12
        },
        "template": {
         "data": {
          "bar": [
           {
            "error_x": {
             "color": "#2a3f5f"
            },
            "error_y": {
             "color": "#2a3f5f"
            },
            "marker": {
             "line": {
              "color": "#E5ECF6",
              "width": 0.5
             },
             "pattern": {
              "fillmode": "overlay",
              "size": 10,
              "solidity": 0.2
             }
            },
            "type": "bar"
           }
          ],
          "barpolar": [
           {
            "marker": {
             "line": {
              "color": "#E5ECF6",
              "width": 0.5
             },
             "pattern": {
              "fillmode": "overlay",
              "size": 10,
              "solidity": 0.2
             }
            },
            "type": "barpolar"
           }
          ],
          "carpet": [
           {
            "aaxis": {
             "endlinecolor": "#2a3f5f",
             "gridcolor": "white",
             "linecolor": "white",
             "minorgridcolor": "white",
             "startlinecolor": "#2a3f5f"
            },
            "baxis": {
             "endlinecolor": "#2a3f5f",
             "gridcolor": "white",
             "linecolor": "white",
             "minorgridcolor": "white",
             "startlinecolor": "#2a3f5f"
            },
            "type": "carpet"
           }
          ],
          "choropleth": [
           {
            "colorbar": {
             "outlinewidth": 0,
             "ticks": ""
            },
            "type": "choropleth"
           }
          ],
          "contour": [
           {
            "colorbar": {
             "outlinewidth": 0,
             "ticks": ""
            },
            "colorscale": [
             [
              0,
              "#0d0887"
             ],
             [
              0.1111111111111111,
              "#46039f"
             ],
             [
              0.2222222222222222,
              "#7201a8"
             ],
             [
              0.3333333333333333,
              "#9c179e"
             ],
             [
              0.4444444444444444,
              "#bd3786"
             ],
             [
              0.5555555555555556,
              "#d8576b"
             ],
             [
              0.6666666666666666,
              "#ed7953"
             ],
             [
              0.7777777777777778,
              "#fb9f3a"
             ],
             [
              0.8888888888888888,
              "#fdca26"
             ],
             [
              1,
              "#f0f921"
             ]
            ],
            "type": "contour"
           }
          ],
          "contourcarpet": [
           {
            "colorbar": {
             "outlinewidth": 0,
             "ticks": ""
            },
            "type": "contourcarpet"
           }
          ],
          "heatmap": [
           {
            "colorbar": {
             "outlinewidth": 0,
             "ticks": ""
            },
            "colorscale": [
             [
              0,
              "#0d0887"
             ],
             [
              0.1111111111111111,
              "#46039f"
             ],
             [
              0.2222222222222222,
              "#7201a8"
             ],
             [
              0.3333333333333333,
              "#9c179e"
             ],
             [
              0.4444444444444444,
              "#bd3786"
             ],
             [
              0.5555555555555556,
              "#d8576b"
             ],
             [
              0.6666666666666666,
              "#ed7953"
             ],
             [
              0.7777777777777778,
              "#fb9f3a"
             ],
             [
              0.8888888888888888,
              "#fdca26"
             ],
             [
              1,
              "#f0f921"
             ]
            ],
            "type": "heatmap"
           }
          ],
          "heatmapgl": [
           {
            "colorbar": {
             "outlinewidth": 0,
             "ticks": ""
            },
            "colorscale": [
             [
              0,
              "#0d0887"
             ],
             [
              0.1111111111111111,
              "#46039f"
             ],
             [
              0.2222222222222222,
              "#7201a8"
             ],
             [
              0.3333333333333333,
              "#9c179e"
             ],
             [
              0.4444444444444444,
              "#bd3786"
             ],
             [
              0.5555555555555556,
              "#d8576b"
             ],
             [
              0.6666666666666666,
              "#ed7953"
             ],
             [
              0.7777777777777778,
              "#fb9f3a"
             ],
             [
              0.8888888888888888,
              "#fdca26"
             ],
             [
              1,
              "#f0f921"
             ]
            ],
            "type": "heatmapgl"
           }
          ],
          "histogram": [
           {
            "marker": {
             "pattern": {
              "fillmode": "overlay",
              "size": 10,
              "solidity": 0.2
             }
            },
            "type": "histogram"
           }
          ],
          "histogram2d": [
           {
            "colorbar": {
             "outlinewidth": 0,
             "ticks": ""
            },
            "colorscale": [
             [
              0,
              "#0d0887"
             ],
             [
              0.1111111111111111,
              "#46039f"
             ],
             [
              0.2222222222222222,
              "#7201a8"
             ],
             [
              0.3333333333333333,
              "#9c179e"
             ],
             [
              0.4444444444444444,
              "#bd3786"
             ],
             [
              0.5555555555555556,
              "#d8576b"
             ],
             [
              0.6666666666666666,
              "#ed7953"
             ],
             [
              0.7777777777777778,
              "#fb9f3a"
             ],
             [
              0.8888888888888888,
              "#fdca26"
             ],
             [
              1,
              "#f0f921"
             ]
            ],
            "type": "histogram2d"
           }
          ],
          "histogram2dcontour": [
           {
            "colorbar": {
             "outlinewidth": 0,
             "ticks": ""
            },
            "colorscale": [
             [
              0,
              "#0d0887"
             ],
             [
              0.1111111111111111,
              "#46039f"
             ],
             [
              0.2222222222222222,
              "#7201a8"
             ],
             [
              0.3333333333333333,
              "#9c179e"
             ],
             [
              0.4444444444444444,
              "#bd3786"
             ],
             [
              0.5555555555555556,
              "#d8576b"
             ],
             [
              0.6666666666666666,
              "#ed7953"
             ],
             [
              0.7777777777777778,
              "#fb9f3a"
             ],
             [
              0.8888888888888888,
              "#fdca26"
             ],
             [
              1,
              "#f0f921"
             ]
            ],
            "type": "histogram2dcontour"
           }
          ],
          "mesh3d": [
           {
            "colorbar": {
             "outlinewidth": 0,
             "ticks": ""
            },
            "type": "mesh3d"
           }
          ],
          "parcoords": [
           {
            "line": {
             "colorbar": {
              "outlinewidth": 0,
              "ticks": ""
             }
            },
            "type": "parcoords"
           }
          ],
          "pie": [
           {
            "automargin": true,
            "type": "pie"
           }
          ],
          "scatter": [
           {
            "fillpattern": {
             "fillmode": "overlay",
             "size": 10,
             "solidity": 0.2
            },
            "type": "scatter"
           }
          ],
          "scatter3d": [
           {
            "line": {
             "colorbar": {
              "outlinewidth": 0,
              "ticks": ""
             }
            },
            "marker": {
             "colorbar": {
              "outlinewidth": 0,
              "ticks": ""
             }
            },
            "type": "scatter3d"
           }
          ],
          "scattercarpet": [
           {
            "marker": {
             "colorbar": {
              "outlinewidth": 0,
              "ticks": ""
             }
            },
            "type": "scattercarpet"
           }
          ],
          "scattergeo": [
           {
            "marker": {
             "colorbar": {
              "outlinewidth": 0,
              "ticks": ""
             }
            },
            "type": "scattergeo"
           }
          ],
          "scattergl": [
           {
            "marker": {
             "colorbar": {
              "outlinewidth": 0,
              "ticks": ""
             }
            },
            "type": "scattergl"
           }
          ],
          "scattermapbox": [
           {
            "marker": {
             "colorbar": {
              "outlinewidth": 0,
              "ticks": ""
             }
            },
            "type": "scattermapbox"
           }
          ],
          "scatterpolar": [
           {
            "marker": {
             "colorbar": {
              "outlinewidth": 0,
              "ticks": ""
             }
            },
            "type": "scatterpolar"
           }
          ],
          "scatterpolargl": [
           {
            "marker": {
             "colorbar": {
              "outlinewidth": 0,
              "ticks": ""
             }
            },
            "type": "scatterpolargl"
           }
          ],
          "scatterternary": [
           {
            "marker": {
             "colorbar": {
              "outlinewidth": 0,
              "ticks": ""
             }
            },
            "type": "scatterternary"
           }
          ],
          "surface": [
           {
            "colorbar": {
             "outlinewidth": 0,
             "ticks": ""
            },
            "colorscale": [
             [
              0,
              "#0d0887"
             ],
             [
              0.1111111111111111,
              "#46039f"
             ],
             [
              0.2222222222222222,
              "#7201a8"
             ],
             [
              0.3333333333333333,
              "#9c179e"
             ],
             [
              0.4444444444444444,
              "#bd3786"
             ],
             [
              0.5555555555555556,
              "#d8576b"
             ],
             [
              0.6666666666666666,
              "#ed7953"
             ],
             [
              0.7777777777777778,
              "#fb9f3a"
             ],
             [
              0.8888888888888888,
              "#fdca26"
             ],
             [
              1,
              "#f0f921"
             ]
            ],
            "type": "surface"
           }
          ],
          "table": [
           {
            "cells": {
             "fill": {
              "color": "#EBF0F8"
             },
             "line": {
              "color": "white"
             }
            },
            "header": {
             "fill": {
              "color": "#C8D4E3"
             },
             "line": {
              "color": "white"
             }
            },
            "type": "table"
           }
          ]
         },
         "layout": {
          "annotationdefaults": {
           "arrowcolor": "#2a3f5f",
           "arrowhead": 0,
           "arrowwidth": 1
          },
          "autotypenumbers": "strict",
          "coloraxis": {
           "colorbar": {
            "outlinewidth": 0,
            "ticks": ""
           }
          },
          "colorscale": {
           "diverging": [
            [
             0,
             "#8e0152"
            ],
            [
             0.1,
             "#c51b7d"
            ],
            [
             0.2,
             "#de77ae"
            ],
            [
             0.3,
             "#f1b6da"
            ],
            [
             0.4,
             "#fde0ef"
            ],
            [
             0.5,
             "#f7f7f7"
            ],
            [
             0.6,
             "#e6f5d0"
            ],
            [
             0.7,
             "#b8e186"
            ],
            [
             0.8,
             "#7fbc41"
            ],
            [
             0.9,
             "#4d9221"
            ],
            [
             1,
             "#276419"
            ]
           ],
           "sequential": [
            [
             0,
             "#0d0887"
            ],
            [
             0.1111111111111111,
             "#46039f"
            ],
            [
             0.2222222222222222,
             "#7201a8"
            ],
            [
             0.3333333333333333,
             "#9c179e"
            ],
            [
             0.4444444444444444,
             "#bd3786"
            ],
            [
             0.5555555555555556,
             "#d8576b"
            ],
            [
             0.6666666666666666,
             "#ed7953"
            ],
            [
             0.7777777777777778,
             "#fb9f3a"
            ],
            [
             0.8888888888888888,
             "#fdca26"
            ],
            [
             1,
             "#f0f921"
            ]
           ],
           "sequentialminus": [
            [
             0,
             "#0d0887"
            ],
            [
             0.1111111111111111,
             "#46039f"
            ],
            [
             0.2222222222222222,
             "#7201a8"
            ],
            [
             0.3333333333333333,
             "#9c179e"
            ],
            [
             0.4444444444444444,
             "#bd3786"
            ],
            [
             0.5555555555555556,
             "#d8576b"
            ],
            [
             0.6666666666666666,
             "#ed7953"
            ],
            [
             0.7777777777777778,
             "#fb9f3a"
            ],
            [
             0.8888888888888888,
             "#fdca26"
            ],
            [
             1,
             "#f0f921"
            ]
           ]
          },
          "colorway": [
           "#636efa",
           "#EF553B",
           "#00cc96",
           "#ab63fa",
           "#FFA15A",
           "#19d3f3",
           "#FF6692",
           "#B6E880",
           "#FF97FF",
           "#FECB52"
          ],
          "font": {
           "color": "#2a3f5f"
          },
          "geo": {
           "bgcolor": "white",
           "lakecolor": "white",
           "landcolor": "#E5ECF6",
           "showlakes": true,
           "showland": true,
           "subunitcolor": "white"
          },
          "hoverlabel": {
           "align": "left"
          },
          "hovermode": "closest",
          "mapbox": {
           "style": "light"
          },
          "paper_bgcolor": "white",
          "plot_bgcolor": "#E5ECF6",
          "polar": {
           "angularaxis": {
            "gridcolor": "white",
            "linecolor": "white",
            "ticks": ""
           },
           "bgcolor": "#E5ECF6",
           "radialaxis": {
            "gridcolor": "white",
            "linecolor": "white",
            "ticks": ""
           }
          },
          "scene": {
           "xaxis": {
            "backgroundcolor": "#E5ECF6",
            "gridcolor": "white",
            "gridwidth": 2,
            "linecolor": "white",
            "showbackground": true,
            "ticks": "",
            "zerolinecolor": "white"
           },
           "yaxis": {
            "backgroundcolor": "#E5ECF6",
            "gridcolor": "white",
            "gridwidth": 2,
            "linecolor": "white",
            "showbackground": true,
            "ticks": "",
            "zerolinecolor": "white"
           },
           "zaxis": {
            "backgroundcolor": "#E5ECF6",
            "gridcolor": "white",
            "gridwidth": 2,
            "linecolor": "white",
            "showbackground": true,
            "ticks": "",
            "zerolinecolor": "white"
           }
          },
          "shapedefaults": {
           "line": {
            "color": "#2a3f5f"
           }
          },
          "ternary": {
           "aaxis": {
            "gridcolor": "white",
            "linecolor": "white",
            "ticks": ""
           },
           "baxis": {
            "gridcolor": "white",
            "linecolor": "white",
            "ticks": ""
           },
           "bgcolor": "#E5ECF6",
           "caxis": {
            "gridcolor": "white",
            "linecolor": "white",
            "ticks": ""
           }
          },
          "title": {
           "x": 0.05
          },
          "xaxis": {
           "automargin": true,
           "gridcolor": "white",
           "linecolor": "white",
           "ticks": "",
           "title": {
            "standoff": 15
           },
           "zerolinecolor": "white",
           "zerolinewidth": 2
          },
          "yaxis": {
           "automargin": true,
           "gridcolor": "white",
           "linecolor": "white",
           "ticks": "",
           "title": {
            "standoff": 15
           },
           "zerolinecolor": "white",
           "zerolinewidth": 2
          }
         }
        },
        "title": {
         "text": "Strasbourg : Clear sky, 22°C"
        },
        "width": 800
       }
      }
     },
     "metadata": {},
     "output_type": "display_data"
    },
    {
     "data": {
      "text/html": [
       "<div>\n",
       "<style scoped>\n",
       "    .dataframe tbody tr th:only-of-type {\n",
       "        vertical-align: middle;\n",
       "    }\n",
       "\n",
       "    .dataframe tbody tr th {\n",
       "        vertical-align: top;\n",
       "    }\n",
       "\n",
       "    .dataframe thead th {\n",
       "        text-align: right;\n",
       "    }\n",
       "</style>\n",
       "<table border=\"1\" class=\"dataframe\">\n",
       "  <thead>\n",
       "    <tr style=\"text-align: right;\">\n",
       "      <th></th>\n",
       "      <th>hotel_name</th>\n",
       "      <th>url_hostel</th>\n",
       "      <th>hotel_describe</th>\n",
       "    </tr>\n",
       "  </thead>\n",
       "  <tbody>\n",
       "    <tr>\n",
       "      <th>0</th>\n",
       "      <td>golden square strasbourg</td>\n",
       "      <td>https://www.booking.com/hotel/fr/golden-square...</td>\n",
       "      <td>Situé dans le centre de Strasbourg, à 300 mè...</td>\n",
       "    </tr>\n",
       "    <tr>\n",
       "      <th>1</th>\n",
       "      <td>L'Appart du Quai avec Terrasse</td>\n",
       "      <td>https://www.booking.com/hotel/fr/l-39-appart-d...</td>\n",
       "      <td>L'Appart du Quai avec Terrasse est un héberg...</td>\n",
       "    </tr>\n",
       "    <tr>\n",
       "      <th>2</th>\n",
       "      <td>carpe diem home</td>\n",
       "      <td>https://www.booking.com/hotel/fr/carpe-diem-ho...</td>\n",
       "      <td>Proposant des hébergements avec une cuisine,...</td>\n",
       "    </tr>\n",
       "    <tr>\n",
       "      <th>3</th>\n",
       "      <td>Les appartements Place de la Cathédrale</td>\n",
       "      <td>https://www.booking.com/hotel/fr/apartement-a-...</td>\n",
       "      <td>L'Apartement Place De La Cathedrale se situe...</td>\n",
       "    </tr>\n",
       "    <tr>\n",
       "      <th>4</th>\n",
       "      <td>Naeva Feng Shui</td>\n",
       "      <td>https://www.booking.com/hotel/fr/magnifique-ap...</td>\n",
       "      <td>Le Naeva Feng Shui vous accueille à Strasbourg...</td>\n",
       "    </tr>\n",
       "    <tr>\n",
       "      <th>5</th>\n",
       "      <td>Hôtel LÉONOR the place to live</td>\n",
       "      <td>https://www.booking.com/hotel/fr/leonor-the-pl...</td>\n",
       "      <td>Situé à Strasbourg, à 200 mètres du marché d...</td>\n",
       "    </tr>\n",
       "    <tr>\n",
       "      <th>6</th>\n",
       "      <td>embassy corner</td>\n",
       "      <td>https://www.booking.com/hotel/fr/embassy-corne...</td>\n",
       "      <td>Doté d'un patio avec vue sur le jardin et d'...</td>\n",
       "    </tr>\n",
       "    <tr>\n",
       "      <th>7</th>\n",
       "      <td>Hôtel Tandem - Boutique Hôtel</td>\n",
       "      <td>https://www.booking.com/hotel/fr/ha-tel-nid-de...</td>\n",
       "      <td>Ce boutique hôtel respectueux de l’environne...</td>\n",
       "    </tr>\n",
       "    <tr>\n",
       "      <th>8</th>\n",
       "      <td>HANNONG Hotel &amp; Wine Bar</td>\n",
       "      <td>https://www.booking.com/hotel/fr/tihannong.fr....</td>\n",
       "      <td>L'Hôtel Hannong est situé au cœur de Strasbo...</td>\n",
       "    </tr>\n",
       "    <tr>\n",
       "      <th>9</th>\n",
       "      <td>k strasbourg</td>\n",
       "      <td>https://www.booking.com/hotel/fr/k-strasbourg....</td>\n",
       "      <td>Situé à Strasbourg, le K Hotel dispose d’une s...</td>\n",
       "    </tr>\n",
       "    <tr>\n",
       "      <th>10</th>\n",
       "      <td>citadines eurometropole strasbourg</td>\n",
       "      <td>https://www.booking.com/hotel/fr/citadines-eur...</td>\n",
       "      <td>Situé à Strasbourg, à 3,7 km du quartier de ...</td>\n",
       "    </tr>\n",
       "    <tr>\n",
       "      <th>11</th>\n",
       "      <td>le</td>\n",
       "      <td>https://www.booking.com/hotel/fr/le.fr.html</td>\n",
       "      <td>L'établissement Le 32 propose un hébergement...</td>\n",
       "    </tr>\n",
       "    <tr>\n",
       "      <th>12</th>\n",
       "      <td>ClapClap Hôtel</td>\n",
       "      <td>https://www.booking.com/hotel/fr/hotelrestaura...</td>\n",
       "      <td>Le ClapClap Hotel se trouve à 400 mètres de ...</td>\n",
       "    </tr>\n",
       "    <tr>\n",
       "      <th>13</th>\n",
       "      <td>golden tulip strasbourg centre the garden</td>\n",
       "      <td>https://www.booking.com/hotel/fr/golden-tulip-...</td>\n",
       "      <td>Doté d'un jardin et d'un restaurant, le voco S...</td>\n",
       "    </tr>\n",
       "    <tr>\n",
       "      <th>14</th>\n",
       "      <td>The People - Strasbourg</td>\n",
       "      <td>https://www.booking.com/hotel/fr/the-people-ho...</td>\n",
       "      <td>Doté d’un bar, l’établissement The People - ...</td>\n",
       "    </tr>\n",
       "    <tr>\n",
       "      <th>15</th>\n",
       "      <td>citadines aparthotel strasbourg</td>\n",
       "      <td>https://www.booking.com/hotel/fr/citadines-apa...</td>\n",
       "      <td>Situé à côté de la place Kléber, ce Citadines ...</td>\n",
       "    </tr>\n",
       "    <tr>\n",
       "      <th>16</th>\n",
       "      <td>Comfort Hotel Strasbourg - Montagne Verte &amp; Re...</td>\n",
       "      <td>https://www.booking.com/hotel/fr/comforthotels...</td>\n",
       "      <td>Situé près de l'Ill, le Comfort Hotel Strasbou...</td>\n",
       "    </tr>\n",
       "    <tr>\n",
       "      <th>17</th>\n",
       "      <td>ibis budget Strasbourg Centre Republique</td>\n",
       "      <td>https://www.booking.com/hotel/fr/ibis-budget-s...</td>\n",
       "      <td>Doté d'un jardin, l'ibis budget Strasbourg Cen...</td>\n",
       "    </tr>\n",
       "    <tr>\n",
       "      <th>18</th>\n",
       "      <td>Le Grand Hotel</td>\n",
       "      <td>https://www.booking.com/hotel/fr/legrandhotel....</td>\n",
       "      <td>Le Grand Hôtel est situé en face de la gare ...</td>\n",
       "    </tr>\n",
       "    <tr>\n",
       "      <th>19</th>\n",
       "      <td>Holiday Inn Express Strasbourg Centre, an IHG ...</td>\n",
       "      <td>https://www.booking.com/hotel/fr/holiday-inn-e...</td>\n",
       "      <td>Le Holiday Inn Express Strasbourg Centre propo...</td>\n",
       "    </tr>\n",
       "  </tbody>\n",
       "</table>\n",
       "</div>"
      ],
      "text/plain": [
       "                                           hotel_name  \\\n",
       "0                            golden square strasbourg   \n",
       "1                      L'Appart du Quai avec Terrasse   \n",
       "2                                     carpe diem home   \n",
       "3             Les appartements Place de la Cathédrale   \n",
       "4                                     Naeva Feng Shui   \n",
       "5                      Hôtel LÉONOR the place to live   \n",
       "6                                      embassy corner   \n",
       "7                       Hôtel Tandem - Boutique Hôtel   \n",
       "8                            HANNONG Hotel & Wine Bar   \n",
       "9                                        k strasbourg   \n",
       "10                 citadines eurometropole strasbourg   \n",
       "11                                                 le   \n",
       "12                                     ClapClap Hôtel   \n",
       "13          golden tulip strasbourg centre the garden   \n",
       "14                            The People - Strasbourg   \n",
       "15                    citadines aparthotel strasbourg   \n",
       "16  Comfort Hotel Strasbourg - Montagne Verte & Re...   \n",
       "17           ibis budget Strasbourg Centre Republique   \n",
       "18                                     Le Grand Hotel   \n",
       "19  Holiday Inn Express Strasbourg Centre, an IHG ...   \n",
       "\n",
       "                                           url_hostel  \\\n",
       "0   https://www.booking.com/hotel/fr/golden-square...   \n",
       "1   https://www.booking.com/hotel/fr/l-39-appart-d...   \n",
       "2   https://www.booking.com/hotel/fr/carpe-diem-ho...   \n",
       "3   https://www.booking.com/hotel/fr/apartement-a-...   \n",
       "4   https://www.booking.com/hotel/fr/magnifique-ap...   \n",
       "5   https://www.booking.com/hotel/fr/leonor-the-pl...   \n",
       "6   https://www.booking.com/hotel/fr/embassy-corne...   \n",
       "7   https://www.booking.com/hotel/fr/ha-tel-nid-de...   \n",
       "8   https://www.booking.com/hotel/fr/tihannong.fr....   \n",
       "9   https://www.booking.com/hotel/fr/k-strasbourg....   \n",
       "10  https://www.booking.com/hotel/fr/citadines-eur...   \n",
       "11        https://www.booking.com/hotel/fr/le.fr.html   \n",
       "12  https://www.booking.com/hotel/fr/hotelrestaura...   \n",
       "13  https://www.booking.com/hotel/fr/golden-tulip-...   \n",
       "14  https://www.booking.com/hotel/fr/the-people-ho...   \n",
       "15  https://www.booking.com/hotel/fr/citadines-apa...   \n",
       "16  https://www.booking.com/hotel/fr/comforthotels...   \n",
       "17  https://www.booking.com/hotel/fr/ibis-budget-s...   \n",
       "18  https://www.booking.com/hotel/fr/legrandhotel....   \n",
       "19  https://www.booking.com/hotel/fr/holiday-inn-e...   \n",
       "\n",
       "                                       hotel_describe  \n",
       "0     Situé dans le centre de Strasbourg, à 300 mè...  \n",
       "1     L'Appart du Quai avec Terrasse est un héberg...  \n",
       "2     Proposant des hébergements avec une cuisine,...  \n",
       "3     L'Apartement Place De La Cathedrale se situe...  \n",
       "4   Le Naeva Feng Shui vous accueille à Strasbourg...  \n",
       "5     Situé à Strasbourg, à 200 mètres du marché d...  \n",
       "6     Doté d'un patio avec vue sur le jardin et d'...  \n",
       "7     Ce boutique hôtel respectueux de l’environne...  \n",
       "8     L'Hôtel Hannong est situé au cœur de Strasbo...  \n",
       "9   Situé à Strasbourg, le K Hotel dispose d’une s...  \n",
       "10    Situé à Strasbourg, à 3,7 km du quartier de ...  \n",
       "11    L'établissement Le 32 propose un hébergement...  \n",
       "12    Le ClapClap Hotel se trouve à 400 mètres de ...  \n",
       "13  Doté d'un jardin et d'un restaurant, le voco S...  \n",
       "14    Doté d’un bar, l’établissement The People - ...  \n",
       "15  Situé à côté de la place Kléber, ce Citadines ...  \n",
       "16  Situé près de l'Ill, le Comfort Hotel Strasbou...  \n",
       "17  Doté d'un jardin, l'ibis budget Strasbourg Cen...  \n",
       "18    Le Grand Hôtel est situé en face de la gare ...  \n",
       "19  Le Holiday Inn Express Strasbourg Centre propo...  "
      ]
     },
     "metadata": {},
     "output_type": "display_data"
    },
    {
     "data": {
      "application/vnd.plotly.v1+json": {
       "config": {
        "plotlyServerURL": "https://plot.ly"
       },
       "data": [
        {
         "customdata": [
          [
           9.7
          ],
          [
           9.7
          ],
          [
           9.6
          ],
          [
           9.3
          ],
          [
           9.2
          ],
          [
           9
          ],
          [
           9
          ],
          [
           9
          ],
          [
           8.8
          ],
          [
           8.7
          ],
          [
           8.7
          ],
          [
           8.6
          ],
          [
           8.6
          ],
          [
           8.6
          ],
          [
           8.5
          ],
          [
           8.4
          ],
          [
           8.3
          ],
          [
           8.3
          ],
          [
           8.2
          ],
          [
           8.2
          ]
         ],
         "hovertemplate": "<b>%{hovertext}</b><br><br>Rating=%{marker.color}<br>Adress=%{text}<br>Lat=%{lat}<br>Lon=%{lon}<extra></extra>",
         "hovertext": [
          "le plaisancier t3 entierement renove de 60m3",
          "t2 palais de justice de 48 m2 en chartreuse toulouse1",
          "NEW Le Mosaïque - Saint Cyprien - Parking Privé",
          "Charmant Appartement en Hypercentre",
          "Les Loges des Chalets",
          "Charming Apartment 1 bedroom - Purpan Cartoucherie area",
          "Le Saint-Aubin by Cocoonr",
          "T3 Spacieux, Renové en 2020 -Pkg-métro",
          "Ibis Styles Toulouse Capitole",
          "heliot",
          "Studio rénové, terrasse privative, 300m du Capitole",
          "Hôtel Une Chambre en Ville",
          "Le Lafayette, appartement duplex climatisé",
          "apt lombard daurade capitole",
          "LE GUILHEMéRY - Canal du Midi - Free Parking",
          "Les Capitole - studios Toulouse hypercentre",
          "Hôtel Alizé",
          "le nid concorde t2 de charme calme",
          "appartement capitole",
          "Superbe studio cosy Metro Jeanne d'Arc"
         ],
         "lat": [
          43.5961283,
          43.5918516,
          43.5914686,
          43.6098963,
          43.6132675,
          43.6072038,
          43.6038051,
          43.6335836,
          43.60439865,
          43.6083432,
          43.6015435,
          43.6139334,
          43.6048726,
          43.6017919,
          43.6019094,
          43.5998267,
          43.6229572,
          43.6130215,
          43.6098963,
          43.6061522
         ],
         "legendgroup": "",
         "lon": [
          1.4554116,
          1.4447229,
          1.4195722,
          1.438203,
          1.4489289,
          1.4069883,
          1.4510708,
          1.4386494,
          1.443351576181684,
          1.4500884,
          1.4449479,
          1.4409863,
          1.446714,
          1.4380759,
          1.4579528,
          1.4455613,
          1.4366343,
          1.4483252,
          1.438203,
          1.4479131
         ],
         "marker": {
          "color": [
           9.7,
           9.7,
           9.6,
           9.3,
           9.2,
           9,
           9,
           9,
           8.8,
           8.7,
           8.7,
           8.6,
           8.6,
           8.6,
           8.5,
           8.4,
           8.3,
           8.3,
           8.2,
           8.2
          ],
          "coloraxis": "coloraxis",
          "size": [
           9.7,
           9.7,
           9.6,
           9.3,
           9.2,
           9,
           9,
           9,
           8.8,
           8.7,
           8.7,
           8.6,
           8.6,
           8.6,
           8.5,
           8.4,
           8.3,
           8.3,
           8.2,
           8.2
          ],
          "sizemode": "area",
          "sizeref": 0.04311111111111111
         },
         "mode": "markers+text",
         "name": "",
         "showlegend": false,
         "subplot": "mapbox",
         "text": [
          "10, Rue de Valenciennes, 31400 Toulouse, France",
          "3 Place Lafourcade, 31400 Toulouse, France",
          " 18 Rue de Cugnaux , 31300 Toulouse, France",
          "7 Rue des Quêteurs, 31000 Toulouse, France",
          "32 Rue Franc, 31000 Toulouse, France",
          "11 rue hilaire chardonnet, 31300 Toulouse, France",
          "28 Rue d'Aubuisson, 31000 Toulouse, France",
          "127 Route de Launaguet, 31200 Toulouse, France",
          "20 Place du Capitole, 31000 Toulouse, France",
          "3 Rue Héliot, 31000 Toulouse, France",
          "12 Rue Baronie, 31000 Toulouse, France",
          "67 bis rue des Chalets, 31000 Toulouse, France",
          "20 Rue Lafayette, 31000 Toulouse, France",
          "4 Quai Lucien Lombard, 31000 Toulouse, France",
          "8 Rue Jean Goujon, 31500 Toulouse, France",
          "32 Rue d'Alsace Lorraine, 31000 Toulouse, France",
          "17 Rue Baqué, 31200 Toulouse, France",
          "33 Rue du Commissaire Philippe, 31000 Toulouse, France",
          "16 Rue Des Quêteurs, 31000 Toulouse, France",
          "50 Boulevard de Strasbourg, 31000 Toulouse, France"
         ],
         "type": "scattermapbox"
        }
       ],
       "layout": {
        "annotations": [
         {
          "align": "left",
          "showarrow": false,
          "text": "<br>The cloud coverage is 0%, it's raining 0 mm/h and the wind blowing at 13 km/h",
          "x": 0,
          "y": -0.1,
          "yref": "paper"
         }
        ],
        "coloraxis": {
         "cmax": 10,
         "cmin": 0,
         "colorbar": {
          "title": {
           "text": "Rating"
          }
         },
         "colorscale": [
          [
           0,
           "rgb(243, 231, 155)"
          ],
          [
           0.16666666666666666,
           "rgb(250, 196, 132)"
          ],
          [
           0.3333333333333333,
           "rgb(248, 160, 126)"
          ],
          [
           0.5,
           "rgb(235, 127, 134)"
          ],
          [
           0.6666666666666666,
           "rgb(206, 102, 147)"
          ],
          [
           0.8333333333333334,
           "rgb(160, 89, 160)"
          ],
          [
           1,
           "rgb(92, 83, 165)"
          ]
         ]
        },
        "height": 600,
        "legend": {
         "itemsizing": "constant",
         "tracegroupgap": 0
        },
        "mapbox": {
         "center": {
          "lat": 43.604462199999986,
          "lon": 1.4442469
         },
         "domain": {
          "x": [
           0,
           1
          ],
          "y": [
           0,
           1
          ]
         },
         "style": "carto-positron",
         "zoom": 12
        },
        "template": {
         "data": {
          "bar": [
           {
            "error_x": {
             "color": "#2a3f5f"
            },
            "error_y": {
             "color": "#2a3f5f"
            },
            "marker": {
             "line": {
              "color": "#E5ECF6",
              "width": 0.5
             },
             "pattern": {
              "fillmode": "overlay",
              "size": 10,
              "solidity": 0.2
             }
            },
            "type": "bar"
           }
          ],
          "barpolar": [
           {
            "marker": {
             "line": {
              "color": "#E5ECF6",
              "width": 0.5
             },
             "pattern": {
              "fillmode": "overlay",
              "size": 10,
              "solidity": 0.2
             }
            },
            "type": "barpolar"
           }
          ],
          "carpet": [
           {
            "aaxis": {
             "endlinecolor": "#2a3f5f",
             "gridcolor": "white",
             "linecolor": "white",
             "minorgridcolor": "white",
             "startlinecolor": "#2a3f5f"
            },
            "baxis": {
             "endlinecolor": "#2a3f5f",
             "gridcolor": "white",
             "linecolor": "white",
             "minorgridcolor": "white",
             "startlinecolor": "#2a3f5f"
            },
            "type": "carpet"
           }
          ],
          "choropleth": [
           {
            "colorbar": {
             "outlinewidth": 0,
             "ticks": ""
            },
            "type": "choropleth"
           }
          ],
          "contour": [
           {
            "colorbar": {
             "outlinewidth": 0,
             "ticks": ""
            },
            "colorscale": [
             [
              0,
              "#0d0887"
             ],
             [
              0.1111111111111111,
              "#46039f"
             ],
             [
              0.2222222222222222,
              "#7201a8"
             ],
             [
              0.3333333333333333,
              "#9c179e"
             ],
             [
              0.4444444444444444,
              "#bd3786"
             ],
             [
              0.5555555555555556,
              "#d8576b"
             ],
             [
              0.6666666666666666,
              "#ed7953"
             ],
             [
              0.7777777777777778,
              "#fb9f3a"
             ],
             [
              0.8888888888888888,
              "#fdca26"
             ],
             [
              1,
              "#f0f921"
             ]
            ],
            "type": "contour"
           }
          ],
          "contourcarpet": [
           {
            "colorbar": {
             "outlinewidth": 0,
             "ticks": ""
            },
            "type": "contourcarpet"
           }
          ],
          "heatmap": [
           {
            "colorbar": {
             "outlinewidth": 0,
             "ticks": ""
            },
            "colorscale": [
             [
              0,
              "#0d0887"
             ],
             [
              0.1111111111111111,
              "#46039f"
             ],
             [
              0.2222222222222222,
              "#7201a8"
             ],
             [
              0.3333333333333333,
              "#9c179e"
             ],
             [
              0.4444444444444444,
              "#bd3786"
             ],
             [
              0.5555555555555556,
              "#d8576b"
             ],
             [
              0.6666666666666666,
              "#ed7953"
             ],
             [
              0.7777777777777778,
              "#fb9f3a"
             ],
             [
              0.8888888888888888,
              "#fdca26"
             ],
             [
              1,
              "#f0f921"
             ]
            ],
            "type": "heatmap"
           }
          ],
          "heatmapgl": [
           {
            "colorbar": {
             "outlinewidth": 0,
             "ticks": ""
            },
            "colorscale": [
             [
              0,
              "#0d0887"
             ],
             [
              0.1111111111111111,
              "#46039f"
             ],
             [
              0.2222222222222222,
              "#7201a8"
             ],
             [
              0.3333333333333333,
              "#9c179e"
             ],
             [
              0.4444444444444444,
              "#bd3786"
             ],
             [
              0.5555555555555556,
              "#d8576b"
             ],
             [
              0.6666666666666666,
              "#ed7953"
             ],
             [
              0.7777777777777778,
              "#fb9f3a"
             ],
             [
              0.8888888888888888,
              "#fdca26"
             ],
             [
              1,
              "#f0f921"
             ]
            ],
            "type": "heatmapgl"
           }
          ],
          "histogram": [
           {
            "marker": {
             "pattern": {
              "fillmode": "overlay",
              "size": 10,
              "solidity": 0.2
             }
            },
            "type": "histogram"
           }
          ],
          "histogram2d": [
           {
            "colorbar": {
             "outlinewidth": 0,
             "ticks": ""
            },
            "colorscale": [
             [
              0,
              "#0d0887"
             ],
             [
              0.1111111111111111,
              "#46039f"
             ],
             [
              0.2222222222222222,
              "#7201a8"
             ],
             [
              0.3333333333333333,
              "#9c179e"
             ],
             [
              0.4444444444444444,
              "#bd3786"
             ],
             [
              0.5555555555555556,
              "#d8576b"
             ],
             [
              0.6666666666666666,
              "#ed7953"
             ],
             [
              0.7777777777777778,
              "#fb9f3a"
             ],
             [
              0.8888888888888888,
              "#fdca26"
             ],
             [
              1,
              "#f0f921"
             ]
            ],
            "type": "histogram2d"
           }
          ],
          "histogram2dcontour": [
           {
            "colorbar": {
             "outlinewidth": 0,
             "ticks": ""
            },
            "colorscale": [
             [
              0,
              "#0d0887"
             ],
             [
              0.1111111111111111,
              "#46039f"
             ],
             [
              0.2222222222222222,
              "#7201a8"
             ],
             [
              0.3333333333333333,
              "#9c179e"
             ],
             [
              0.4444444444444444,
              "#bd3786"
             ],
             [
              0.5555555555555556,
              "#d8576b"
             ],
             [
              0.6666666666666666,
              "#ed7953"
             ],
             [
              0.7777777777777778,
              "#fb9f3a"
             ],
             [
              0.8888888888888888,
              "#fdca26"
             ],
             [
              1,
              "#f0f921"
             ]
            ],
            "type": "histogram2dcontour"
           }
          ],
          "mesh3d": [
           {
            "colorbar": {
             "outlinewidth": 0,
             "ticks": ""
            },
            "type": "mesh3d"
           }
          ],
          "parcoords": [
           {
            "line": {
             "colorbar": {
              "outlinewidth": 0,
              "ticks": ""
             }
            },
            "type": "parcoords"
           }
          ],
          "pie": [
           {
            "automargin": true,
            "type": "pie"
           }
          ],
          "scatter": [
           {
            "fillpattern": {
             "fillmode": "overlay",
             "size": 10,
             "solidity": 0.2
            },
            "type": "scatter"
           }
          ],
          "scatter3d": [
           {
            "line": {
             "colorbar": {
              "outlinewidth": 0,
              "ticks": ""
             }
            },
            "marker": {
             "colorbar": {
              "outlinewidth": 0,
              "ticks": ""
             }
            },
            "type": "scatter3d"
           }
          ],
          "scattercarpet": [
           {
            "marker": {
             "colorbar": {
              "outlinewidth": 0,
              "ticks": ""
             }
            },
            "type": "scattercarpet"
           }
          ],
          "scattergeo": [
           {
            "marker": {
             "colorbar": {
              "outlinewidth": 0,
              "ticks": ""
             }
            },
            "type": "scattergeo"
           }
          ],
          "scattergl": [
           {
            "marker": {
             "colorbar": {
              "outlinewidth": 0,
              "ticks": ""
             }
            },
            "type": "scattergl"
           }
          ],
          "scattermapbox": [
           {
            "marker": {
             "colorbar": {
              "outlinewidth": 0,
              "ticks": ""
             }
            },
            "type": "scattermapbox"
           }
          ],
          "scatterpolar": [
           {
            "marker": {
             "colorbar": {
              "outlinewidth": 0,
              "ticks": ""
             }
            },
            "type": "scatterpolar"
           }
          ],
          "scatterpolargl": [
           {
            "marker": {
             "colorbar": {
              "outlinewidth": 0,
              "ticks": ""
             }
            },
            "type": "scatterpolargl"
           }
          ],
          "scatterternary": [
           {
            "marker": {
             "colorbar": {
              "outlinewidth": 0,
              "ticks": ""
             }
            },
            "type": "scatterternary"
           }
          ],
          "surface": [
           {
            "colorbar": {
             "outlinewidth": 0,
             "ticks": ""
            },
            "colorscale": [
             [
              0,
              "#0d0887"
             ],
             [
              0.1111111111111111,
              "#46039f"
             ],
             [
              0.2222222222222222,
              "#7201a8"
             ],
             [
              0.3333333333333333,
              "#9c179e"
             ],
             [
              0.4444444444444444,
              "#bd3786"
             ],
             [
              0.5555555555555556,
              "#d8576b"
             ],
             [
              0.6666666666666666,
              "#ed7953"
             ],
             [
              0.7777777777777778,
              "#fb9f3a"
             ],
             [
              0.8888888888888888,
              "#fdca26"
             ],
             [
              1,
              "#f0f921"
             ]
            ],
            "type": "surface"
           }
          ],
          "table": [
           {
            "cells": {
             "fill": {
              "color": "#EBF0F8"
             },
             "line": {
              "color": "white"
             }
            },
            "header": {
             "fill": {
              "color": "#C8D4E3"
             },
             "line": {
              "color": "white"
             }
            },
            "type": "table"
           }
          ]
         },
         "layout": {
          "annotationdefaults": {
           "arrowcolor": "#2a3f5f",
           "arrowhead": 0,
           "arrowwidth": 1
          },
          "autotypenumbers": "strict",
          "coloraxis": {
           "colorbar": {
            "outlinewidth": 0,
            "ticks": ""
           }
          },
          "colorscale": {
           "diverging": [
            [
             0,
             "#8e0152"
            ],
            [
             0.1,
             "#c51b7d"
            ],
            [
             0.2,
             "#de77ae"
            ],
            [
             0.3,
             "#f1b6da"
            ],
            [
             0.4,
             "#fde0ef"
            ],
            [
             0.5,
             "#f7f7f7"
            ],
            [
             0.6,
             "#e6f5d0"
            ],
            [
             0.7,
             "#b8e186"
            ],
            [
             0.8,
             "#7fbc41"
            ],
            [
             0.9,
             "#4d9221"
            ],
            [
             1,
             "#276419"
            ]
           ],
           "sequential": [
            [
             0,
             "#0d0887"
            ],
            [
             0.1111111111111111,
             "#46039f"
            ],
            [
             0.2222222222222222,
             "#7201a8"
            ],
            [
             0.3333333333333333,
             "#9c179e"
            ],
            [
             0.4444444444444444,
             "#bd3786"
            ],
            [
             0.5555555555555556,
             "#d8576b"
            ],
            [
             0.6666666666666666,
             "#ed7953"
            ],
            [
             0.7777777777777778,
             "#fb9f3a"
            ],
            [
             0.8888888888888888,
             "#fdca26"
            ],
            [
             1,
             "#f0f921"
            ]
           ],
           "sequentialminus": [
            [
             0,
             "#0d0887"
            ],
            [
             0.1111111111111111,
             "#46039f"
            ],
            [
             0.2222222222222222,
             "#7201a8"
            ],
            [
             0.3333333333333333,
             "#9c179e"
            ],
            [
             0.4444444444444444,
             "#bd3786"
            ],
            [
             0.5555555555555556,
             "#d8576b"
            ],
            [
             0.6666666666666666,
             "#ed7953"
            ],
            [
             0.7777777777777778,
             "#fb9f3a"
            ],
            [
             0.8888888888888888,
             "#fdca26"
            ],
            [
             1,
             "#f0f921"
            ]
           ]
          },
          "colorway": [
           "#636efa",
           "#EF553B",
           "#00cc96",
           "#ab63fa",
           "#FFA15A",
           "#19d3f3",
           "#FF6692",
           "#B6E880",
           "#FF97FF",
           "#FECB52"
          ],
          "font": {
           "color": "#2a3f5f"
          },
          "geo": {
           "bgcolor": "white",
           "lakecolor": "white",
           "landcolor": "#E5ECF6",
           "showlakes": true,
           "showland": true,
           "subunitcolor": "white"
          },
          "hoverlabel": {
           "align": "left"
          },
          "hovermode": "closest",
          "mapbox": {
           "style": "light"
          },
          "paper_bgcolor": "white",
          "plot_bgcolor": "#E5ECF6",
          "polar": {
           "angularaxis": {
            "gridcolor": "white",
            "linecolor": "white",
            "ticks": ""
           },
           "bgcolor": "#E5ECF6",
           "radialaxis": {
            "gridcolor": "white",
            "linecolor": "white",
            "ticks": ""
           }
          },
          "scene": {
           "xaxis": {
            "backgroundcolor": "#E5ECF6",
            "gridcolor": "white",
            "gridwidth": 2,
            "linecolor": "white",
            "showbackground": true,
            "ticks": "",
            "zerolinecolor": "white"
           },
           "yaxis": {
            "backgroundcolor": "#E5ECF6",
            "gridcolor": "white",
            "gridwidth": 2,
            "linecolor": "white",
            "showbackground": true,
            "ticks": "",
            "zerolinecolor": "white"
           },
           "zaxis": {
            "backgroundcolor": "#E5ECF6",
            "gridcolor": "white",
            "gridwidth": 2,
            "linecolor": "white",
            "showbackground": true,
            "ticks": "",
            "zerolinecolor": "white"
           }
          },
          "shapedefaults": {
           "line": {
            "color": "#2a3f5f"
           }
          },
          "ternary": {
           "aaxis": {
            "gridcolor": "white",
            "linecolor": "white",
            "ticks": ""
           },
           "baxis": {
            "gridcolor": "white",
            "linecolor": "white",
            "ticks": ""
           },
           "bgcolor": "#E5ECF6",
           "caxis": {
            "gridcolor": "white",
            "linecolor": "white",
            "ticks": ""
           }
          },
          "title": {
           "x": 0.05
          },
          "xaxis": {
           "automargin": true,
           "gridcolor": "white",
           "linecolor": "white",
           "ticks": "",
           "title": {
            "standoff": 15
           },
           "zerolinecolor": "white",
           "zerolinewidth": 2
          },
          "yaxis": {
           "automargin": true,
           "gridcolor": "white",
           "linecolor": "white",
           "ticks": "",
           "title": {
            "standoff": 15
           },
           "zerolinecolor": "white",
           "zerolinewidth": 2
          }
         }
        },
        "title": {
         "text": "Toulouse : Clear sky, 25°C"
        },
        "width": 800
       }
      }
     },
     "metadata": {},
     "output_type": "display_data"
    },
    {
     "data": {
      "text/html": [
       "<div>\n",
       "<style scoped>\n",
       "    .dataframe tbody tr th:only-of-type {\n",
       "        vertical-align: middle;\n",
       "    }\n",
       "\n",
       "    .dataframe tbody tr th {\n",
       "        vertical-align: top;\n",
       "    }\n",
       "\n",
       "    .dataframe thead th {\n",
       "        text-align: right;\n",
       "    }\n",
       "</style>\n",
       "<table border=\"1\" class=\"dataframe\">\n",
       "  <thead>\n",
       "    <tr style=\"text-align: right;\">\n",
       "      <th></th>\n",
       "      <th>hotel_name</th>\n",
       "      <th>url_hostel</th>\n",
       "      <th>hotel_describe</th>\n",
       "    </tr>\n",
       "  </thead>\n",
       "  <tbody>\n",
       "    <tr>\n",
       "      <th>0</th>\n",
       "      <td>le plaisancier t3 entierement renove de 60m3</td>\n",
       "      <td>https://www.booking.com/hotel/fr/le-plaisancie...</td>\n",
       "      <td>Situé à Toulouse, à 1,8 km du parc des exposit...</td>\n",
       "    </tr>\n",
       "    <tr>\n",
       "      <th>1</th>\n",
       "      <td>t2 palais de justice de 48 m2 en chartreuse to...</td>\n",
       "      <td>https://www.booking.com/hotel/fr/t2-palais-de-...</td>\n",
       "      <td>Le T2 - Palais de justice de 48 m2 en chartreu...</td>\n",
       "    </tr>\n",
       "    <tr>\n",
       "      <th>2</th>\n",
       "      <td>NEW Le Mosaïque - Saint Cyprien - Parking Privé</td>\n",
       "      <td>https://www.booking.com/hotel/fr/new-le-mosaiq...</td>\n",
       "      <td>Offrant une vue sur la ville, le NEW Le Mosaïq...</td>\n",
       "    </tr>\n",
       "    <tr>\n",
       "      <th>3</th>\n",
       "      <td>Charmant Appartement en Hypercentre</td>\n",
       "      <td>https://www.booking.com/hotel/fr/charmant-appa...</td>\n",
       "      <td>Le Charmant Appartement en Hypercentre propo...</td>\n",
       "    </tr>\n",
       "    <tr>\n",
       "      <th>4</th>\n",
       "      <td>Les Loges des Chalets</td>\n",
       "      <td>https://www.booking.com/hotel/fr/les-loges-des...</td>\n",
       "      <td>Situé à 5 km du stade de Toulouse, l'établisse...</td>\n",
       "    </tr>\n",
       "    <tr>\n",
       "      <th>5</th>\n",
       "      <td>Charming Apartment 1 bedroom - Purpan Cartouch...</td>\n",
       "      <td>https://www.booking.com/hotel/fr/charming-apar...</td>\n",
       "      <td>Situé à Toulouse, à moins de 1 km du Zénith, à...</td>\n",
       "    </tr>\n",
       "    <tr>\n",
       "      <th>6</th>\n",
       "      <td>Le Saint-Aubin by Cocoonr</td>\n",
       "      <td>https://www.booking.com/hotel/fr/le-saint-aubi...</td>\n",
       "      <td>Le Saint-Aubin by Cocoonr propose un hébergeme...</td>\n",
       "    </tr>\n",
       "    <tr>\n",
       "      <th>7</th>\n",
       "      <td>T3 Spacieux, Renové en 2020 -Pkg-métro</td>\n",
       "      <td>https://www.booking.com/hotel/fr/spacieux-calm...</td>\n",
       "      <td>Le T3 Spacieux, Renové en 2020 -Pkg-métro es...</td>\n",
       "    </tr>\n",
       "    <tr>\n",
       "      <th>8</th>\n",
       "      <td>Ibis Styles Toulouse Capitole</td>\n",
       "      <td>https://www.booking.com/hotel/fr/du-taur.fr.html</td>\n",
       "      <td>L'Ibis Styles Toulouse Capitole est situé dans...</td>\n",
       "    </tr>\n",
       "    <tr>\n",
       "      <th>9</th>\n",
       "      <td>heliot</td>\n",
       "      <td>https://www.booking.com/hotel/fr/heliot.fr.html</td>\n",
       "      <td>L'Hôtel Héliot vous accueille dans un établiss...</td>\n",
       "    </tr>\n",
       "    <tr>\n",
       "      <th>10</th>\n",
       "      <td>Studio rénové, terrasse privative, 300m du Cap...</td>\n",
       "      <td>https://www.booking.com/hotel/fr/studio-renove...</td>\n",
       "      <td>Situé dans le quartier du Capitole à Toulouse,...</td>\n",
       "    </tr>\n",
       "    <tr>\n",
       "      <th>11</th>\n",
       "      <td>Hôtel Une Chambre en Ville</td>\n",
       "      <td>https://www.booking.com/hotel/fr/une-chambre-e...</td>\n",
       "      <td>L'Hôtel Une Chambre en Ville bénéficie d'un ...</td>\n",
       "    </tr>\n",
       "    <tr>\n",
       "      <th>12</th>\n",
       "      <td>Le Lafayette, appartement duplex climatisé</td>\n",
       "      <td>https://www.booking.com/hotel/fr/le-lafayette-...</td>\n",
       "      <td>Situé en plein centre de Toulouse, à 2 km du p...</td>\n",
       "    </tr>\n",
       "    <tr>\n",
       "      <th>13</th>\n",
       "      <td>apt lombard daurade capitole</td>\n",
       "      <td>https://www.booking.com/hotel/fr/apt-lombard-d...</td>\n",
       "      <td>Situé dans le centre de Toulouse, à 2,8 km d...</td>\n",
       "    </tr>\n",
       "    <tr>\n",
       "      <th>14</th>\n",
       "      <td>LE GUILHEMéRY - Canal du Midi - Free Parking</td>\n",
       "      <td>https://www.booking.com/hotel/fr/le-guilhemery...</td>\n",
       "      <td>Doté d'une terrasse et offrant une vue sur l...</td>\n",
       "    </tr>\n",
       "    <tr>\n",
       "      <th>15</th>\n",
       "      <td>Les Capitole - studios Toulouse hypercentre</td>\n",
       "      <td>https://www.booking.com/hotel/fr/les-capitole-...</td>\n",
       "      <td>Situé dans le centre de Toulouse, à moins de...</td>\n",
       "    </tr>\n",
       "    <tr>\n",
       "      <th>16</th>\n",
       "      <td>Hôtel Alizé</td>\n",
       "      <td>https://www.booking.com/hotel/fr/alize-toulous...</td>\n",
       "      <td>L'hôtel Alizé se situe dans le quartier pittor...</td>\n",
       "    </tr>\n",
       "    <tr>\n",
       "      <th>17</th>\n",
       "      <td>le nid concorde t2 de charme calme</td>\n",
       "      <td>https://www.booking.com/hotel/fr/le-nid-concor...</td>\n",
       "      <td>Le nid Concorde - T2 de charme - Calme propose...</td>\n",
       "    </tr>\n",
       "    <tr>\n",
       "      <th>18</th>\n",
       "      <td>appartement capitole</td>\n",
       "      <td>https://www.booking.com/hotel/fr/appartement-c...</td>\n",
       "      <td>Doté d'une connexion Wi-Fi gratuite, l'Apparte...</td>\n",
       "    </tr>\n",
       "    <tr>\n",
       "      <th>19</th>\n",
       "      <td>Superbe studio cosy Metro Jeanne d'Arc</td>\n",
       "      <td>https://www.booking.com/hotel/fr/superbe-studi...</td>\n",
       "      <td>Situé dans le centre de Toulouse, à seulemen...</td>\n",
       "    </tr>\n",
       "  </tbody>\n",
       "</table>\n",
       "</div>"
      ],
      "text/plain": [
       "                                           hotel_name  \\\n",
       "0        le plaisancier t3 entierement renove de 60m3   \n",
       "1   t2 palais de justice de 48 m2 en chartreuse to...   \n",
       "2     NEW Le Mosaïque - Saint Cyprien - Parking Privé   \n",
       "3                 Charmant Appartement en Hypercentre   \n",
       "4                               Les Loges des Chalets   \n",
       "5   Charming Apartment 1 bedroom - Purpan Cartouch...   \n",
       "6                           Le Saint-Aubin by Cocoonr   \n",
       "7              T3 Spacieux, Renové en 2020 -Pkg-métro   \n",
       "8                       Ibis Styles Toulouse Capitole   \n",
       "9                                              heliot   \n",
       "10  Studio rénové, terrasse privative, 300m du Cap...   \n",
       "11                         Hôtel Une Chambre en Ville   \n",
       "12         Le Lafayette, appartement duplex climatisé   \n",
       "13                       apt lombard daurade capitole   \n",
       "14       LE GUILHEMéRY - Canal du Midi - Free Parking   \n",
       "15        Les Capitole - studios Toulouse hypercentre   \n",
       "16                                        Hôtel Alizé   \n",
       "17                 le nid concorde t2 de charme calme   \n",
       "18                               appartement capitole   \n",
       "19             Superbe studio cosy Metro Jeanne d'Arc   \n",
       "\n",
       "                                           url_hostel  \\\n",
       "0   https://www.booking.com/hotel/fr/le-plaisancie...   \n",
       "1   https://www.booking.com/hotel/fr/t2-palais-de-...   \n",
       "2   https://www.booking.com/hotel/fr/new-le-mosaiq...   \n",
       "3   https://www.booking.com/hotel/fr/charmant-appa...   \n",
       "4   https://www.booking.com/hotel/fr/les-loges-des...   \n",
       "5   https://www.booking.com/hotel/fr/charming-apar...   \n",
       "6   https://www.booking.com/hotel/fr/le-saint-aubi...   \n",
       "7   https://www.booking.com/hotel/fr/spacieux-calm...   \n",
       "8    https://www.booking.com/hotel/fr/du-taur.fr.html   \n",
       "9     https://www.booking.com/hotel/fr/heliot.fr.html   \n",
       "10  https://www.booking.com/hotel/fr/studio-renove...   \n",
       "11  https://www.booking.com/hotel/fr/une-chambre-e...   \n",
       "12  https://www.booking.com/hotel/fr/le-lafayette-...   \n",
       "13  https://www.booking.com/hotel/fr/apt-lombard-d...   \n",
       "14  https://www.booking.com/hotel/fr/le-guilhemery...   \n",
       "15  https://www.booking.com/hotel/fr/les-capitole-...   \n",
       "16  https://www.booking.com/hotel/fr/alize-toulous...   \n",
       "17  https://www.booking.com/hotel/fr/le-nid-concor...   \n",
       "18  https://www.booking.com/hotel/fr/appartement-c...   \n",
       "19  https://www.booking.com/hotel/fr/superbe-studi...   \n",
       "\n",
       "                                       hotel_describe  \n",
       "0   Situé à Toulouse, à 1,8 km du parc des exposit...  \n",
       "1   Le T2 - Palais de justice de 48 m2 en chartreu...  \n",
       "2   Offrant une vue sur la ville, le NEW Le Mosaïq...  \n",
       "3     Le Charmant Appartement en Hypercentre propo...  \n",
       "4   Situé à 5 km du stade de Toulouse, l'établisse...  \n",
       "5   Situé à Toulouse, à moins de 1 km du Zénith, à...  \n",
       "6   Le Saint-Aubin by Cocoonr propose un hébergeme...  \n",
       "7     Le T3 Spacieux, Renové en 2020 -Pkg-métro es...  \n",
       "8   L'Ibis Styles Toulouse Capitole est situé dans...  \n",
       "9   L'Hôtel Héliot vous accueille dans un établiss...  \n",
       "10  Situé dans le quartier du Capitole à Toulouse,...  \n",
       "11    L'Hôtel Une Chambre en Ville bénéficie d'un ...  \n",
       "12  Situé en plein centre de Toulouse, à 2 km du p...  \n",
       "13    Situé dans le centre de Toulouse, à 2,8 km d...  \n",
       "14    Doté d'une terrasse et offrant une vue sur l...  \n",
       "15    Situé dans le centre de Toulouse, à moins de...  \n",
       "16  L'hôtel Alizé se situe dans le quartier pittor...  \n",
       "17  Le nid Concorde - T2 de charme - Calme propose...  \n",
       "18  Doté d'une connexion Wi-Fi gratuite, l'Apparte...  \n",
       "19    Situé dans le centre de Toulouse, à seulemen...  "
      ]
     },
     "metadata": {},
     "output_type": "display_data"
    },
    {
     "data": {
      "application/vnd.plotly.v1+json": {
       "config": {
        "plotlyServerURL": "https://plot.ly"
       },
       "data": [
        {
         "customdata": [
          [
           10
          ],
          [
           10
          ],
          [
           9.7
          ],
          [
           9.6
          ],
          [
           9.3
          ],
          [
           9.2
          ],
          [
           9.1
          ],
          [
           9
          ],
          [
           9
          ],
          [
           9
          ],
          [
           9
          ],
          [
           8.9
          ],
          [
           8.9
          ],
          [
           8.8
          ],
          [
           8.7
          ],
          [
           8.7
          ],
          [
           8.6
          ],
          [
           8.6
          ],
          [
           8.5
          ],
          [
           8.3
          ]
         ],
         "hovertemplate": "<b>%{hovertext}</b><br><br>Rating=%{marker.color}<br>Adress=%{text}<br>Lat=%{lat}<br>Lon=%{lon}<extra></extra>",
         "hovertext": [
          "La suite Caudalie - Charme & Cachet",
          "the duchess suite heart of dijon",
          "Le Lion des Ducs : centre historique de Dijon",
          "the duke suite heart of dijon with terrace",
          "bel appartement place saint joseph 4 a 5 pers 95m2 dijon",
          "L'historique au cœur de ville",
          "La Chambre Ducale Plein Coeur historique",
          "appartement le louvre",
          "56-chabot-charny",
          "Dijon : plein coeur de ville, à 2 pas du Tram",
          "VILLA14",
          "Chambre d'hôtes Le Petit Tertre",
          "Residhome Dijon Cité Des Vignes",
          "le jouvence cozy zen confort parking gratuit",
          "le clos des jardins",
          "le b2",
          "Appart Hotel Montchapet Dijon Centre",
          "la mansarde cosy et charme au centre historique",
          "Le NID - Studio Place Emile Zola / parking gratuit",
          "La Closerie des Cordeliers"
         ],
         "lat": [
          47.3195544,
          47.3262158,
          47.3236461,
          47.3262158,
          47.3161378,
          47.3205144,
          47.3205144,
          47.3168206,
          47.3208696,
          47.3230535,
          47.3216191,
          47.3225654,
          47.3166538,
          47.3288984,
          47.3269628,
          47.3212112,
          47.3256221,
          47.3217996,
          47.3192501,
          47.3186538
         ],
         "legendgroup": "",
         "lon": [
          5.0381588,
          5.0434776,
          5.0435137,
          5.0434776,
          5.0370055,
          5.0422965,
          5.0422965,
          5.0441656,
          5.0433937,
          5.0411367,
          5.0332872,
          5.0427984,
          5.0254008,
          5.0389843,
          5.0229371,
          5.0345254,
          5.0326625,
          5.0376844,
          5.037002,
          5.0404936
         ],
         "marker": {
          "color": [
           10,
           10,
           9.7,
           9.6,
           9.3,
           9.2,
           9.1,
           9,
           9,
           9,
           9,
           8.9,
           8.9,
           8.8,
           8.7,
           8.7,
           8.6,
           8.6,
           8.5,
           8.3
          ],
          "coloraxis": "coloraxis",
          "size": [
           10,
           10,
           9.7,
           9.6,
           9.3,
           9.2,
           9.1,
           9,
           9,
           9,
           9,
           8.9,
           8.9,
           8.8,
           8.7,
           8.7,
           8.6,
           8.6,
           8.5,
           8.3
          ],
          "sizemode": "area",
          "sizeref": 0.044444444444444446
         },
         "mode": "markers+text",
         "name": "",
         "showlegend": false,
         "subplot": "mapbox",
         "text": [
          "126 Rue Berbisey, Centre-ville de Dijon, 21000 Dijon, France",
          "7 Rue de la Préfecture, Centre-ville de Dijon, 21000 Dijon, France",
          "21 Rue Verrerie, Centre-ville de Dijon, 21000 Dijon, France",
          "7 Rue de la Préfecture, Centre-ville de Dijon, 21000 Dijon, France",
          "8 Rue Ranfer de Bretenière, Centre-ville de Dijon, 21000 Dijon, France",
          "3 Rue Philippe Pot, Centre-ville de Dijon, 21000 Dijon, France",
          "3 Rue Philippe Pot, Centre-ville de Dijon, 21000 Dijon, France",
          "19 boulevard Carnot, Centre-ville de Dijon, 21000 Dijon, France",
          "37 rue Chabot-charny, Centre-ville de Dijon, 21000 Dijon, France",
          "54 Rue de la Préfecture, Centre-ville de Dijon, 21000 Dijon, France",
          "14 Rue Mariotte, Centre-ville de Dijon, 21000 Dijon, France",
          "41 Rue Verrerie, Centre-ville de Dijon, 21000 Dijon, France",
          "1 Avenue de l'Ouche, Centre-ville de Dijon, 21000 Dijon, France",
          "41 Rue de Jouvence, 21000 Dijon, France",
          "16 Rue Legrand du Saulle, 21000 Dijon, France",
          "6 place Saint Bénigne, Centre-ville de Dijon, 21000 Dijon, France",
          "28 Rue Jacques Cellerier, 21000 Dijon, France",
          "5 Rue Bossuet, Centre-ville de Dijon, 21000 Dijon, France",
          "29 Rue du Gymnase, Centre-ville de Dijon, 21000 Dijon, France",
          "26 Rue Pasteur , Centre-ville de Dijon, 21000 Dijon, France"
         ],
         "type": "scattermapbox"
        }
       ],
       "layout": {
        "annotations": [
         {
          "align": "left",
          "showarrow": false,
          "text": "<br>The cloud coverage is 0%, it's raining 0 mm/h and the wind blowing at 15 km/h",
          "x": 0,
          "y": -0.1,
          "yref": "paper"
         }
        ],
        "coloraxis": {
         "cmax": 10,
         "cmin": 0,
         "colorbar": {
          "title": {
           "text": "Rating"
          }
         },
         "colorscale": [
          [
           0,
           "rgb(243, 231, 155)"
          ],
          [
           0.16666666666666666,
           "rgb(250, 196, 132)"
          ],
          [
           0.3333333333333333,
           "rgb(248, 160, 126)"
          ],
          [
           0.5,
           "rgb(235, 127, 134)"
          ],
          [
           0.6666666666666666,
           "rgb(206, 102, 147)"
          ],
          [
           0.8333333333333334,
           "rgb(160, 89, 160)"
          ],
          [
           1,
           "rgb(92, 83, 165)"
          ]
         ]
        },
        "height": 600,
        "legend": {
         "itemsizing": "constant",
         "tracegroupgap": 0
        },
        "mapbox": {
         "center": {
          "lat": 47.32158059999999,
          "lon": 5.0414701
         },
         "domain": {
          "x": [
           0,
           1
          ],
          "y": [
           0,
           1
          ]
         },
         "style": "carto-positron",
         "zoom": 12
        },
        "template": {
         "data": {
          "bar": [
           {
            "error_x": {
             "color": "#2a3f5f"
            },
            "error_y": {
             "color": "#2a3f5f"
            },
            "marker": {
             "line": {
              "color": "#E5ECF6",
              "width": 0.5
             },
             "pattern": {
              "fillmode": "overlay",
              "size": 10,
              "solidity": 0.2
             }
            },
            "type": "bar"
           }
          ],
          "barpolar": [
           {
            "marker": {
             "line": {
              "color": "#E5ECF6",
              "width": 0.5
             },
             "pattern": {
              "fillmode": "overlay",
              "size": 10,
              "solidity": 0.2
             }
            },
            "type": "barpolar"
           }
          ],
          "carpet": [
           {
            "aaxis": {
             "endlinecolor": "#2a3f5f",
             "gridcolor": "white",
             "linecolor": "white",
             "minorgridcolor": "white",
             "startlinecolor": "#2a3f5f"
            },
            "baxis": {
             "endlinecolor": "#2a3f5f",
             "gridcolor": "white",
             "linecolor": "white",
             "minorgridcolor": "white",
             "startlinecolor": "#2a3f5f"
            },
            "type": "carpet"
           }
          ],
          "choropleth": [
           {
            "colorbar": {
             "outlinewidth": 0,
             "ticks": ""
            },
            "type": "choropleth"
           }
          ],
          "contour": [
           {
            "colorbar": {
             "outlinewidth": 0,
             "ticks": ""
            },
            "colorscale": [
             [
              0,
              "#0d0887"
             ],
             [
              0.1111111111111111,
              "#46039f"
             ],
             [
              0.2222222222222222,
              "#7201a8"
             ],
             [
              0.3333333333333333,
              "#9c179e"
             ],
             [
              0.4444444444444444,
              "#bd3786"
             ],
             [
              0.5555555555555556,
              "#d8576b"
             ],
             [
              0.6666666666666666,
              "#ed7953"
             ],
             [
              0.7777777777777778,
              "#fb9f3a"
             ],
             [
              0.8888888888888888,
              "#fdca26"
             ],
             [
              1,
              "#f0f921"
             ]
            ],
            "type": "contour"
           }
          ],
          "contourcarpet": [
           {
            "colorbar": {
             "outlinewidth": 0,
             "ticks": ""
            },
            "type": "contourcarpet"
           }
          ],
          "heatmap": [
           {
            "colorbar": {
             "outlinewidth": 0,
             "ticks": ""
            },
            "colorscale": [
             [
              0,
              "#0d0887"
             ],
             [
              0.1111111111111111,
              "#46039f"
             ],
             [
              0.2222222222222222,
              "#7201a8"
             ],
             [
              0.3333333333333333,
              "#9c179e"
             ],
             [
              0.4444444444444444,
              "#bd3786"
             ],
             [
              0.5555555555555556,
              "#d8576b"
             ],
             [
              0.6666666666666666,
              "#ed7953"
             ],
             [
              0.7777777777777778,
              "#fb9f3a"
             ],
             [
              0.8888888888888888,
              "#fdca26"
             ],
             [
              1,
              "#f0f921"
             ]
            ],
            "type": "heatmap"
           }
          ],
          "heatmapgl": [
           {
            "colorbar": {
             "outlinewidth": 0,
             "ticks": ""
            },
            "colorscale": [
             [
              0,
              "#0d0887"
             ],
             [
              0.1111111111111111,
              "#46039f"
             ],
             [
              0.2222222222222222,
              "#7201a8"
             ],
             [
              0.3333333333333333,
              "#9c179e"
             ],
             [
              0.4444444444444444,
              "#bd3786"
             ],
             [
              0.5555555555555556,
              "#d8576b"
             ],
             [
              0.6666666666666666,
              "#ed7953"
             ],
             [
              0.7777777777777778,
              "#fb9f3a"
             ],
             [
              0.8888888888888888,
              "#fdca26"
             ],
             [
              1,
              "#f0f921"
             ]
            ],
            "type": "heatmapgl"
           }
          ],
          "histogram": [
           {
            "marker": {
             "pattern": {
              "fillmode": "overlay",
              "size": 10,
              "solidity": 0.2
             }
            },
            "type": "histogram"
           }
          ],
          "histogram2d": [
           {
            "colorbar": {
             "outlinewidth": 0,
             "ticks": ""
            },
            "colorscale": [
             [
              0,
              "#0d0887"
             ],
             [
              0.1111111111111111,
              "#46039f"
             ],
             [
              0.2222222222222222,
              "#7201a8"
             ],
             [
              0.3333333333333333,
              "#9c179e"
             ],
             [
              0.4444444444444444,
              "#bd3786"
             ],
             [
              0.5555555555555556,
              "#d8576b"
             ],
             [
              0.6666666666666666,
              "#ed7953"
             ],
             [
              0.7777777777777778,
              "#fb9f3a"
             ],
             [
              0.8888888888888888,
              "#fdca26"
             ],
             [
              1,
              "#f0f921"
             ]
            ],
            "type": "histogram2d"
           }
          ],
          "histogram2dcontour": [
           {
            "colorbar": {
             "outlinewidth": 0,
             "ticks": ""
            },
            "colorscale": [
             [
              0,
              "#0d0887"
             ],
             [
              0.1111111111111111,
              "#46039f"
             ],
             [
              0.2222222222222222,
              "#7201a8"
             ],
             [
              0.3333333333333333,
              "#9c179e"
             ],
             [
              0.4444444444444444,
              "#bd3786"
             ],
             [
              0.5555555555555556,
              "#d8576b"
             ],
             [
              0.6666666666666666,
              "#ed7953"
             ],
             [
              0.7777777777777778,
              "#fb9f3a"
             ],
             [
              0.8888888888888888,
              "#fdca26"
             ],
             [
              1,
              "#f0f921"
             ]
            ],
            "type": "histogram2dcontour"
           }
          ],
          "mesh3d": [
           {
            "colorbar": {
             "outlinewidth": 0,
             "ticks": ""
            },
            "type": "mesh3d"
           }
          ],
          "parcoords": [
           {
            "line": {
             "colorbar": {
              "outlinewidth": 0,
              "ticks": ""
             }
            },
            "type": "parcoords"
           }
          ],
          "pie": [
           {
            "automargin": true,
            "type": "pie"
           }
          ],
          "scatter": [
           {
            "fillpattern": {
             "fillmode": "overlay",
             "size": 10,
             "solidity": 0.2
            },
            "type": "scatter"
           }
          ],
          "scatter3d": [
           {
            "line": {
             "colorbar": {
              "outlinewidth": 0,
              "ticks": ""
             }
            },
            "marker": {
             "colorbar": {
              "outlinewidth": 0,
              "ticks": ""
             }
            },
            "type": "scatter3d"
           }
          ],
          "scattercarpet": [
           {
            "marker": {
             "colorbar": {
              "outlinewidth": 0,
              "ticks": ""
             }
            },
            "type": "scattercarpet"
           }
          ],
          "scattergeo": [
           {
            "marker": {
             "colorbar": {
              "outlinewidth": 0,
              "ticks": ""
             }
            },
            "type": "scattergeo"
           }
          ],
          "scattergl": [
           {
            "marker": {
             "colorbar": {
              "outlinewidth": 0,
              "ticks": ""
             }
            },
            "type": "scattergl"
           }
          ],
          "scattermapbox": [
           {
            "marker": {
             "colorbar": {
              "outlinewidth": 0,
              "ticks": ""
             }
            },
            "type": "scattermapbox"
           }
          ],
          "scatterpolar": [
           {
            "marker": {
             "colorbar": {
              "outlinewidth": 0,
              "ticks": ""
             }
            },
            "type": "scatterpolar"
           }
          ],
          "scatterpolargl": [
           {
            "marker": {
             "colorbar": {
              "outlinewidth": 0,
              "ticks": ""
             }
            },
            "type": "scatterpolargl"
           }
          ],
          "scatterternary": [
           {
            "marker": {
             "colorbar": {
              "outlinewidth": 0,
              "ticks": ""
             }
            },
            "type": "scatterternary"
           }
          ],
          "surface": [
           {
            "colorbar": {
             "outlinewidth": 0,
             "ticks": ""
            },
            "colorscale": [
             [
              0,
              "#0d0887"
             ],
             [
              0.1111111111111111,
              "#46039f"
             ],
             [
              0.2222222222222222,
              "#7201a8"
             ],
             [
              0.3333333333333333,
              "#9c179e"
             ],
             [
              0.4444444444444444,
              "#bd3786"
             ],
             [
              0.5555555555555556,
              "#d8576b"
             ],
             [
              0.6666666666666666,
              "#ed7953"
             ],
             [
              0.7777777777777778,
              "#fb9f3a"
             ],
             [
              0.8888888888888888,
              "#fdca26"
             ],
             [
              1,
              "#f0f921"
             ]
            ],
            "type": "surface"
           }
          ],
          "table": [
           {
            "cells": {
             "fill": {
              "color": "#EBF0F8"
             },
             "line": {
              "color": "white"
             }
            },
            "header": {
             "fill": {
              "color": "#C8D4E3"
             },
             "line": {
              "color": "white"
             }
            },
            "type": "table"
           }
          ]
         },
         "layout": {
          "annotationdefaults": {
           "arrowcolor": "#2a3f5f",
           "arrowhead": 0,
           "arrowwidth": 1
          },
          "autotypenumbers": "strict",
          "coloraxis": {
           "colorbar": {
            "outlinewidth": 0,
            "ticks": ""
           }
          },
          "colorscale": {
           "diverging": [
            [
             0,
             "#8e0152"
            ],
            [
             0.1,
             "#c51b7d"
            ],
            [
             0.2,
             "#de77ae"
            ],
            [
             0.3,
             "#f1b6da"
            ],
            [
             0.4,
             "#fde0ef"
            ],
            [
             0.5,
             "#f7f7f7"
            ],
            [
             0.6,
             "#e6f5d0"
            ],
            [
             0.7,
             "#b8e186"
            ],
            [
             0.8,
             "#7fbc41"
            ],
            [
             0.9,
             "#4d9221"
            ],
            [
             1,
             "#276419"
            ]
           ],
           "sequential": [
            [
             0,
             "#0d0887"
            ],
            [
             0.1111111111111111,
             "#46039f"
            ],
            [
             0.2222222222222222,
             "#7201a8"
            ],
            [
             0.3333333333333333,
             "#9c179e"
            ],
            [
             0.4444444444444444,
             "#bd3786"
            ],
            [
             0.5555555555555556,
             "#d8576b"
            ],
            [
             0.6666666666666666,
             "#ed7953"
            ],
            [
             0.7777777777777778,
             "#fb9f3a"
            ],
            [
             0.8888888888888888,
             "#fdca26"
            ],
            [
             1,
             "#f0f921"
            ]
           ],
           "sequentialminus": [
            [
             0,
             "#0d0887"
            ],
            [
             0.1111111111111111,
             "#46039f"
            ],
            [
             0.2222222222222222,
             "#7201a8"
            ],
            [
             0.3333333333333333,
             "#9c179e"
            ],
            [
             0.4444444444444444,
             "#bd3786"
            ],
            [
             0.5555555555555556,
             "#d8576b"
            ],
            [
             0.6666666666666666,
             "#ed7953"
            ],
            [
             0.7777777777777778,
             "#fb9f3a"
            ],
            [
             0.8888888888888888,
             "#fdca26"
            ],
            [
             1,
             "#f0f921"
            ]
           ]
          },
          "colorway": [
           "#636efa",
           "#EF553B",
           "#00cc96",
           "#ab63fa",
           "#FFA15A",
           "#19d3f3",
           "#FF6692",
           "#B6E880",
           "#FF97FF",
           "#FECB52"
          ],
          "font": {
           "color": "#2a3f5f"
          },
          "geo": {
           "bgcolor": "white",
           "lakecolor": "white",
           "landcolor": "#E5ECF6",
           "showlakes": true,
           "showland": true,
           "subunitcolor": "white"
          },
          "hoverlabel": {
           "align": "left"
          },
          "hovermode": "closest",
          "mapbox": {
           "style": "light"
          },
          "paper_bgcolor": "white",
          "plot_bgcolor": "#E5ECF6",
          "polar": {
           "angularaxis": {
            "gridcolor": "white",
            "linecolor": "white",
            "ticks": ""
           },
           "bgcolor": "#E5ECF6",
           "radialaxis": {
            "gridcolor": "white",
            "linecolor": "white",
            "ticks": ""
           }
          },
          "scene": {
           "xaxis": {
            "backgroundcolor": "#E5ECF6",
            "gridcolor": "white",
            "gridwidth": 2,
            "linecolor": "white",
            "showbackground": true,
            "ticks": "",
            "zerolinecolor": "white"
           },
           "yaxis": {
            "backgroundcolor": "#E5ECF6",
            "gridcolor": "white",
            "gridwidth": 2,
            "linecolor": "white",
            "showbackground": true,
            "ticks": "",
            "zerolinecolor": "white"
           },
           "zaxis": {
            "backgroundcolor": "#E5ECF6",
            "gridcolor": "white",
            "gridwidth": 2,
            "linecolor": "white",
            "showbackground": true,
            "ticks": "",
            "zerolinecolor": "white"
           }
          },
          "shapedefaults": {
           "line": {
            "color": "#2a3f5f"
           }
          },
          "ternary": {
           "aaxis": {
            "gridcolor": "white",
            "linecolor": "white",
            "ticks": ""
           },
           "baxis": {
            "gridcolor": "white",
            "linecolor": "white",
            "ticks": ""
           },
           "bgcolor": "#E5ECF6",
           "caxis": {
            "gridcolor": "white",
            "linecolor": "white",
            "ticks": ""
           }
          },
          "title": {
           "x": 0.05
          },
          "xaxis": {
           "automargin": true,
           "gridcolor": "white",
           "linecolor": "white",
           "ticks": "",
           "title": {
            "standoff": 15
           },
           "zerolinecolor": "white",
           "zerolinewidth": 2
          },
          "yaxis": {
           "automargin": true,
           "gridcolor": "white",
           "linecolor": "white",
           "ticks": "",
           "title": {
            "standoff": 15
           },
           "zerolinecolor": "white",
           "zerolinewidth": 2
          }
         }
        },
        "title": {
         "text": "Dijon : Clear sky, 26°C"
        },
        "width": 800
       }
      }
     },
     "metadata": {},
     "output_type": "display_data"
    },
    {
     "data": {
      "text/html": [
       "<div>\n",
       "<style scoped>\n",
       "    .dataframe tbody tr th:only-of-type {\n",
       "        vertical-align: middle;\n",
       "    }\n",
       "\n",
       "    .dataframe tbody tr th {\n",
       "        vertical-align: top;\n",
       "    }\n",
       "\n",
       "    .dataframe thead th {\n",
       "        text-align: right;\n",
       "    }\n",
       "</style>\n",
       "<table border=\"1\" class=\"dataframe\">\n",
       "  <thead>\n",
       "    <tr style=\"text-align: right;\">\n",
       "      <th></th>\n",
       "      <th>hotel_name</th>\n",
       "      <th>url_hostel</th>\n",
       "      <th>hotel_describe</th>\n",
       "    </tr>\n",
       "  </thead>\n",
       "  <tbody>\n",
       "    <tr>\n",
       "      <th>0</th>\n",
       "      <td>La suite Caudalie - Charme &amp; Cachet</td>\n",
       "      <td>https://www.booking.com/hotel/fr/la-suite-caud...</td>\n",
       "      <td>Situé à Dijon, à 400 mètres de l'église Saint-...</td>\n",
       "    </tr>\n",
       "    <tr>\n",
       "      <th>1</th>\n",
       "      <td>the duchess suite heart of dijon</td>\n",
       "      <td>https://www.booking.com/hotel/fr/the-duchess-s...</td>\n",
       "      <td>Situé en plein centre de Dijon, à proximité de...</td>\n",
       "    </tr>\n",
       "    <tr>\n",
       "      <th>2</th>\n",
       "      <td>Le Lion des Ducs : centre historique de Dijon</td>\n",
       "      <td>https://www.booking.com/hotel/fr/le-lion-des-d...</td>\n",
       "      <td>Doté d'une connexion Wi-Fi gratuite et offrant...</td>\n",
       "    </tr>\n",
       "    <tr>\n",
       "      <th>3</th>\n",
       "      <td>the duke suite heart of dijon with terrace</td>\n",
       "      <td>https://www.booking.com/hotel/fr/the-duke-suit...</td>\n",
       "      <td>Situé à Dijon, à moins de 500 mètres de l'égli...</td>\n",
       "    </tr>\n",
       "    <tr>\n",
       "      <th>4</th>\n",
       "      <td>bel appartement place saint joseph 4 a 5 pers ...</td>\n",
       "      <td>https://www.booking.com/hotel/fr/bel-apparteme...</td>\n",
       "      <td>Le Bel Appartement Rénové Garage 7mn Centre Vi...</td>\n",
       "    </tr>\n",
       "    <tr>\n",
       "      <th>5</th>\n",
       "      <td>L'historique au cœur de ville</td>\n",
       "      <td>https://www.booking.com/hotel/fr/l-39-historiq...</td>\n",
       "      <td>Doté d'une connexion Wi-Fi et d'un parking pri...</td>\n",
       "    </tr>\n",
       "    <tr>\n",
       "      <th>6</th>\n",
       "      <td>La Chambre Ducale Plein Coeur historique</td>\n",
       "      <td>https://www.booking.com/hotel/fr/plein-coeur-h...</td>\n",
       "      <td>L'établissement La Chambre Ducale Plein Coeur ...</td>\n",
       "    </tr>\n",
       "    <tr>\n",
       "      <th>7</th>\n",
       "      <td>appartement le louvre</td>\n",
       "      <td>https://www.booking.com/hotel/fr/appartement-l...</td>\n",
       "      <td>Offrant une vue sur le jardin, l'Appartement L...</td>\n",
       "    </tr>\n",
       "    <tr>\n",
       "      <th>8</th>\n",
       "      <td>56-chabot-charny</td>\n",
       "      <td>https://www.booking.com/hotel/fr/56-chabot-cha...</td>\n",
       "      <td>Le 56-chabot-charny est situé dans le quartier...</td>\n",
       "    </tr>\n",
       "    <tr>\n",
       "      <th>9</th>\n",
       "      <td>Dijon : plein coeur de ville, à 2 pas du Tram</td>\n",
       "      <td>https://www.booking.com/hotel/fr/dijon-plein-c...</td>\n",
       "      <td>Le Dijon: plein coeur de ville, à 2 pas du Tra...</td>\n",
       "    </tr>\n",
       "    <tr>\n",
       "      <th>10</th>\n",
       "      <td>VILLA14</td>\n",
       "      <td>https://www.booking.com/hotel/fr/villa14.fr.html</td>\n",
       "      <td>Situé dans le centre de Dijon, l'établissement...</td>\n",
       "    </tr>\n",
       "    <tr>\n",
       "      <th>11</th>\n",
       "      <td>Chambre d'hôtes Le Petit Tertre</td>\n",
       "      <td>https://www.booking.com/hotel/fr/le-petit-tert...</td>\n",
       "      <td>L'établissement le Petit Tertre est situé dans...</td>\n",
       "    </tr>\n",
       "    <tr>\n",
       "      <th>12</th>\n",
       "      <td>Residhome Dijon Cité Des Vignes</td>\n",
       "      <td>https://www.booking.com/hotel/fr/residhome-dij...</td>\n",
       "      <td>Le Residhome Dijon Cité Des Vignes est situé d...</td>\n",
       "    </tr>\n",
       "    <tr>\n",
       "      <th>13</th>\n",
       "      <td>le jouvence cozy zen confort parking gratuit</td>\n",
       "      <td>https://www.booking.com/hotel/fr/le-jouvence-c...</td>\n",
       "      <td>Le Jouvence Cozy / ZEN-CONFORT-PARKING GRATU...</td>\n",
       "    </tr>\n",
       "    <tr>\n",
       "      <th>14</th>\n",
       "      <td>le clos des jardins</td>\n",
       "      <td>https://www.booking.com/hotel/fr/le-clos-des-j...</td>\n",
       "      <td>Doté d'une piscine privée et offrant une vue s...</td>\n",
       "    </tr>\n",
       "    <tr>\n",
       "      <th>15</th>\n",
       "      <td>le b2</td>\n",
       "      <td>https://www.booking.com/hotel/fr/le-b2.fr.html</td>\n",
       "      <td>L'établissement Le B2 est situé dans le quarti...</td>\n",
       "    </tr>\n",
       "    <tr>\n",
       "      <th>16</th>\n",
       "      <td>Appart Hotel Montchapet Dijon Centre</td>\n",
       "      <td>https://www.booking.com/hotel/fr/appart-montch...</td>\n",
       "      <td>Doté d'un bar et d'une connexion Wi-Fi gratuit...</td>\n",
       "    </tr>\n",
       "    <tr>\n",
       "      <th>17</th>\n",
       "      <td>la mansarde cosy et charme au centre historique</td>\n",
       "      <td>https://www.booking.com/hotel/fr/la-mansarde-c...</td>\n",
       "      <td>Doté d'une connexion Wi-Fi gratuite, l'établis...</td>\n",
       "    </tr>\n",
       "    <tr>\n",
       "      <th>18</th>\n",
       "      <td>Le NID - Studio Place Emile Zola / parking gra...</td>\n",
       "      <td>https://www.booking.com/hotel/fr/le-nid-studio...</td>\n",
       "      <td>Le NID - Studio Place Emile Zola / parking gra...</td>\n",
       "    </tr>\n",
       "    <tr>\n",
       "      <th>19</th>\n",
       "      <td>La Closerie des Cordeliers</td>\n",
       "      <td>https://www.booking.com/hotel/fr/la-closerie-d...</td>\n",
       "      <td>Situé à Dijon, à seulement 600 mètres de l'égl...</td>\n",
       "    </tr>\n",
       "  </tbody>\n",
       "</table>\n",
       "</div>"
      ],
      "text/plain": [
       "                                           hotel_name  \\\n",
       "0                 La suite Caudalie - Charme & Cachet   \n",
       "1                    the duchess suite heart of dijon   \n",
       "2       Le Lion des Ducs : centre historique de Dijon   \n",
       "3          the duke suite heart of dijon with terrace   \n",
       "4   bel appartement place saint joseph 4 a 5 pers ...   \n",
       "5                       L'historique au cœur de ville   \n",
       "6            La Chambre Ducale Plein Coeur historique   \n",
       "7                               appartement le louvre   \n",
       "8                                    56-chabot-charny   \n",
       "9       Dijon : plein coeur de ville, à 2 pas du Tram   \n",
       "10                                            VILLA14   \n",
       "11                    Chambre d'hôtes Le Petit Tertre   \n",
       "12                    Residhome Dijon Cité Des Vignes   \n",
       "13       le jouvence cozy zen confort parking gratuit   \n",
       "14                                le clos des jardins   \n",
       "15                                              le b2   \n",
       "16               Appart Hotel Montchapet Dijon Centre   \n",
       "17    la mansarde cosy et charme au centre historique   \n",
       "18  Le NID - Studio Place Emile Zola / parking gra...   \n",
       "19                         La Closerie des Cordeliers   \n",
       "\n",
       "                                           url_hostel  \\\n",
       "0   https://www.booking.com/hotel/fr/la-suite-caud...   \n",
       "1   https://www.booking.com/hotel/fr/the-duchess-s...   \n",
       "2   https://www.booking.com/hotel/fr/le-lion-des-d...   \n",
       "3   https://www.booking.com/hotel/fr/the-duke-suit...   \n",
       "4   https://www.booking.com/hotel/fr/bel-apparteme...   \n",
       "5   https://www.booking.com/hotel/fr/l-39-historiq...   \n",
       "6   https://www.booking.com/hotel/fr/plein-coeur-h...   \n",
       "7   https://www.booking.com/hotel/fr/appartement-l...   \n",
       "8   https://www.booking.com/hotel/fr/56-chabot-cha...   \n",
       "9   https://www.booking.com/hotel/fr/dijon-plein-c...   \n",
       "10   https://www.booking.com/hotel/fr/villa14.fr.html   \n",
       "11  https://www.booking.com/hotel/fr/le-petit-tert...   \n",
       "12  https://www.booking.com/hotel/fr/residhome-dij...   \n",
       "13  https://www.booking.com/hotel/fr/le-jouvence-c...   \n",
       "14  https://www.booking.com/hotel/fr/le-clos-des-j...   \n",
       "15     https://www.booking.com/hotel/fr/le-b2.fr.html   \n",
       "16  https://www.booking.com/hotel/fr/appart-montch...   \n",
       "17  https://www.booking.com/hotel/fr/la-mansarde-c...   \n",
       "18  https://www.booking.com/hotel/fr/le-nid-studio...   \n",
       "19  https://www.booking.com/hotel/fr/la-closerie-d...   \n",
       "\n",
       "                                       hotel_describe  \n",
       "0   Situé à Dijon, à 400 mètres de l'église Saint-...  \n",
       "1   Situé en plein centre de Dijon, à proximité de...  \n",
       "2   Doté d'une connexion Wi-Fi gratuite et offrant...  \n",
       "3   Situé à Dijon, à moins de 500 mètres de l'égli...  \n",
       "4   Le Bel Appartement Rénové Garage 7mn Centre Vi...  \n",
       "5   Doté d'une connexion Wi-Fi et d'un parking pri...  \n",
       "6   L'établissement La Chambre Ducale Plein Coeur ...  \n",
       "7   Offrant une vue sur le jardin, l'Appartement L...  \n",
       "8   Le 56-chabot-charny est situé dans le quartier...  \n",
       "9   Le Dijon: plein coeur de ville, à 2 pas du Tra...  \n",
       "10  Situé dans le centre de Dijon, l'établissement...  \n",
       "11  L'établissement le Petit Tertre est situé dans...  \n",
       "12  Le Residhome Dijon Cité Des Vignes est situé d...  \n",
       "13    Le Jouvence Cozy / ZEN-CONFORT-PARKING GRATU...  \n",
       "14  Doté d'une piscine privée et offrant une vue s...  \n",
       "15  L'établissement Le B2 est situé dans le quarti...  \n",
       "16  Doté d'un bar et d'une connexion Wi-Fi gratuit...  \n",
       "17  Doté d'une connexion Wi-Fi gratuite, l'établis...  \n",
       "18  Le NID - Studio Place Emile Zola / parking gra...  \n",
       "19  Situé à Dijon, à seulement 600 mètres de l'égl...  "
      ]
     },
     "metadata": {},
     "output_type": "display_data"
    }
   ],
   "source": [
    "import plotly.express as px\n",
    "import plotly.io as pio\n",
    "import re\n",
    "\n",
    "for city in best_weather_cities:\n",
    "    dataframe_city = dataframe[dataframe['city'] == city]\n",
    "\n",
    "    description = str(dataframe_city['description'].iloc[0])\n",
    "    felt_temperature = str(round(dataframe_city['felt_temperature'].iloc[0]))\n",
    "\n",
    "    fig = px.scatter_mapbox(dataframe_city, \n",
    "                            lat=\"hotel_latitude\", lon=\"hotel_longitude\", \n",
    "                            color=\"hotel_note\", zoom =12, \n",
    "                            center= {'lat': dataframe_city['latitude'].mean(), \n",
    "                                     'lon': dataframe_city['longitude'].mean()},\n",
    "                            mapbox_style=\"carto-positron\",\n",
    "                            title= f\"{city} : {description}, {felt_temperature}°C\",\n",
    "                            hover_name='hotel_name',\n",
    "                            text= 'hotel_adress',\n",
    "                            hover_data=['hotel_note'],\n",
    "                            labels={'hotel_name':'Name','hotel_note':'Rating', 'hotel_adress': 'Adress', \n",
    "                                    'hotel_latitude':'Lat', 'hotel_longitude':'Lon'},\n",
    "                            color_continuous_scale = 'sunset',\n",
    "                            size=\"hotel_note\", size_max= 15,\n",
    "                            width=800, height=600,\n",
    "                            range_color = [0,10])\n",
    "\n",
    "    cloud_coverage = str(round(dataframe_city['cloud_coverage'].iloc[0]))\n",
    "    precipitation = str(round(dataframe_city['precipitation'].iloc[0]))\n",
    "    wind = str(round(dataframe_city['wind'].iloc[0]*3.6))\n",
    "    text = f\"<br>The cloud coverage is {cloud_coverage}%, it's raining {precipitation} mm/h and the wind blowing at {wind} km/h\"\n",
    "\n",
    "    fig.update_layout(annotations=[dict(text=text, showarrow=False,\n",
    "                                     x=0, y=-0.1, yref=\"paper\", align=\"left\")])\n",
    "     \n",
    "    fig.show()\n",
    "\n",
    "    dataframe_hotels = dataframe_city.drop(columns=['hotel_latitude','hotel_adress', 'hotel_note', 'hotel_longitude', 'city', 'latitude',\n",
    "    'longitude', 'adress', 'weather_code', 'felt_temperature', 'cloud_coverage', 'precipitation', 'wind', 'description'])\n",
    "    dataframe_hotels = dataframe_hotels.reset_index().drop(columns=['index'])\n",
    "    dataframe_hotels['url_hostel'] = dataframe_hotels['url_hostel'].apply(lambda x : re.sub(r'\\?aid=\\S*', '', x))\n",
    "    dataframe_hotels['hotel_describe'] = dataframe_hotels['hotel_describe'].apply(lambda x : re.sub(r'<a href=(.*?)<\\/a>', '', x))\n",
    "    dataframe_hotels['hotel_describe'] = dataframe_hotels['hotel_describe'].apply(lambda x : re.sub(r'Vous pouvez(.*?)économiser.', '', x))\n",
    "    dataframe_hotels = dataframe_hotels.reindex(columns=['hotel_name','url_hostel','hotel_describe'])\n",
    "\n",
    "    display(dataframe_hotels)\n",
    "    \n"
   ]
  },
  {
   "cell_type": "code",
   "execution_count": null,
   "metadata": {},
   "outputs": [],
   "source": []
  }
 ],
 "metadata": {
  "kernelspec": {
   "display_name": "Python 3.9.5 64-bit",
   "language": "python",
   "name": "python3"
  },
  "language_info": {
   "codemirror_mode": {
    "name": "ipython",
    "version": 3
   },
   "file_extension": ".py",
   "mimetype": "text/x-python",
   "name": "python",
   "nbconvert_exporter": "python",
   "pygments_lexer": "ipython3",
   "version": "3.9.5"
  },
  "orig_nbformat": 4,
  "vscode": {
   "interpreter": {
    "hash": "7812ea015bdcee6f23a998adcdd2ef97c151c0c241b7b7070987d9313e41299d"
   }
  }
 },
 "nbformat": 4,
 "nbformat_minor": 2
}
